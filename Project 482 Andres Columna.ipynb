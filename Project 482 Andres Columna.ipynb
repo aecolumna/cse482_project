{
 "cells": [
  {
   "cell_type": "markdown",
   "metadata": {},
   "source": [
    "# CSE 482 Project by Andres Columna\n",
    "## Predicting stock price fluctuations from Twitter Sentiment data"
   ]
  },
  {
   "cell_type": "markdown",
   "metadata": {},
   "source": [
    "# table of contents\n",
    "\n",
    "1. <a href=\"#collection\"> Collection  </a>\n",
    "2. <a href=\"#preprocessing\"> Preprocessing </a>\n",
    "3. <a href=\"#modeling\"> Modeling </a>"
   ]
  },
  {
   "cell_type": "markdown",
   "metadata": {},
   "source": [
    "* Social media platforms such as Twitter have become a popular data source for many big data applications, from event monitoring (e.g., detecting earthquakes) to forecasting applications (e.g., predicting disease outbreak). The goal of this project is to leverage the social media data for an event monitoring or forecasting application.\n",
    "\n",
    "\n",
    "* For example, consider the stock market prediction task. Given a collection of real-time tweets, the goal is to provide a price forecast for a particular stock based on users sentiment expressed in their tweets"
   ]
  },
  {
   "cell_type": "markdown",
   "metadata": {},
   "source": [
    "<span id=\"collection\"> Preprocessing </span>\n",
    "# Collection\n",
    "### 1. Get Twitter data"
   ]
  },
  {
   "cell_type": "markdown",
   "metadata": {},
   "source": [
    "## Get data Twitter Json Data from P-Tan-Repository\n",
    "\n",
    "```bash\n",
    "sftp columnaa@arctic.cse.msu.edu\n",
    "cd /user/research/ptan/data/Twitter/\n",
    "ls 1604* # all files available on the month of April 2016\n",
    "# $ 160401000522  160401212357  160401220219  160402000529 160403000350  160404000118\n",
    "# $ 160405000304  160406000412\t160406192326  160409162410\n",
    "ls 1603* # all files available on month of March 2016\n",
    "\n",
    "# download each tweet file individually\n",
    "# example:\n",
    "get 160401212357 # ~15 GB\n",
    "\n",
    "# afterwards there are often multiple files for the same day. Concatenate all files pertaining to one day into one file\n",
    "cat 160401* > april-1-2016.json\n",
    "```\n",
    "\n",
    "---"
   ]
  },
  {
   "attachments": {},
   "cell_type": "markdown",
   "metadata": {},
   "source": [
    "![files.png](./pictures/files.png)\n",
    "![size.png](./pictures/file_size.png)\n",
    "\n",
    "##### The limiting factor was the space on my local hard drive. 72.5 GB was my limit. This gave me a maximum of 7 data points. Also it took on average 25 minutes to `get` a file through SFTP, and half the time the connection would die half-way through the download"
   ]
  },
  {
   "cell_type": "code",
   "execution_count": 2,
   "metadata": {},
   "outputs": [],
   "source": [
    "import json\n",
    "import pandas"
   ]
  },
  {
   "cell_type": "markdown",
   "metadata": {},
   "source": [
    "<span id=\"preprocessing\"></span>\n",
    "# Preprocessing\n",
    "## Preprocess raw twitter file\n",
    "\n",
    "1. Only select tweets that mention the brands **Nike, Adidas, Reebok, Under Armour, or Puma.**\n",
    "2. From the JSON fields, the only relevant columns to select are `['created_at','favorite_count','retweet_count', 'verified','name','id','followers_count']`"
   ]
  },
  {
   "cell_type": "code",
   "execution_count": 442,
   "metadata": {},
   "outputs": [
    {
     "data": {
      "text/html": [
       "<div>\n",
       "<style scoped>\n",
       "    .dataframe tbody tr th:only-of-type {\n",
       "        vertical-align: middle;\n",
       "    }\n",
       "\n",
       "    .dataframe tbody tr th {\n",
       "        vertical-align: top;\n",
       "    }\n",
       "\n",
       "    .dataframe thead th {\n",
       "        text-align: right;\n",
       "    }\n",
       "</style>\n",
       "<table border=\"1\" class=\"dataframe\">\n",
       "  <thead>\n",
       "    <tr style=\"text-align: right;\">\n",
       "      <th></th>\n",
       "      <th>created_at</th>\n",
       "      <th>favorite_count</th>\n",
       "      <th>retweet_count</th>\n",
       "      <th>text</th>\n",
       "      <th>user-followers_count</th>\n",
       "      <th>user-id</th>\n",
       "      <th>user-name</th>\n",
       "      <th>user-verified</th>\n",
       "    </tr>\n",
       "  </thead>\n",
       "  <tbody>\n",
       "    <tr>\n",
       "      <th>0</th>\n",
       "      <td>Wed Mar 30 04:02:34 +0000 2016</td>\n",
       "      <td>0</td>\n",
       "      <td>0</td>\n",
       "      <td>damn no wonder adidas lv was pack cause they r...</td>\n",
       "      <td>309</td>\n",
       "      <td>219625957</td>\n",
       "      <td>Brown Iverson</td>\n",
       "      <td>False</td>\n",
       "    </tr>\n",
       "    <tr>\n",
       "      <th>1</th>\n",
       "      <td>Wed Mar 30 04:04:07 +0000 2016</td>\n",
       "      <td>0</td>\n",
       "      <td>0</td>\n",
       "      <td>@tahmohpenikett @htc @htcusa @webstervictor i ...</td>\n",
       "      <td>7</td>\n",
       "      <td>3496892840</td>\n",
       "      <td>Shana Karlsen</td>\n",
       "      <td>False</td>\n",
       "    </tr>\n",
       "    <tr>\n",
       "      <th>2</th>\n",
       "      <td>Wed Mar 30 04:04:36 +0000 2016</td>\n",
       "      <td>0</td>\n",
       "      <td>0</td>\n",
       "      <td>another great workout with nike! #nrc https://...</td>\n",
       "      <td>82</td>\n",
       "      <td>330789656</td>\n",
       "      <td>Blackwrath</td>\n",
       "      <td>False</td>\n",
       "    </tr>\n",
       "    <tr>\n",
       "      <th>3</th>\n",
       "      <td>Wed Mar 30 04:06:59 +0000 2016</td>\n",
       "      <td>0</td>\n",
       "      <td>0</td>\n",
       "      <td>@dee_man_8 @carlsenju trueeeee carl you might ...</td>\n",
       "      <td>859</td>\n",
       "      <td>530866421</td>\n",
       "      <td>び Sears び</td>\n",
       "      <td>False</td>\n",
       "    </tr>\n",
       "    <tr>\n",
       "      <th>4</th>\n",
       "      <td>Wed Mar 30 04:07:03 +0000 2016</td>\n",
       "      <td>0</td>\n",
       "      <td>0</td>\n",
       "      <td>https://t.co/92ulbng17b #aliens #reebok #sneak...</td>\n",
       "      <td>1261</td>\n",
       "      <td>33005796</td>\n",
       "      <td>Christian D. Bruun</td>\n",
       "      <td>False</td>\n",
       "    </tr>\n",
       "  </tbody>\n",
       "</table>\n",
       "</div>"
      ],
      "text/plain": [
       "                       created_at  favorite_count  retweet_count  \\\n",
       "0  Wed Mar 30 04:02:34 +0000 2016               0              0   \n",
       "1  Wed Mar 30 04:04:07 +0000 2016               0              0   \n",
       "2  Wed Mar 30 04:04:36 +0000 2016               0              0   \n",
       "3  Wed Mar 30 04:06:59 +0000 2016               0              0   \n",
       "4  Wed Mar 30 04:07:03 +0000 2016               0              0   \n",
       "\n",
       "                                                text  user-followers_count  \\\n",
       "0  damn no wonder adidas lv was pack cause they r...                   309   \n",
       "1  @tahmohpenikett @htc @htcusa @webstervictor i ...                     7   \n",
       "2  another great workout with nike! #nrc https://...                    82   \n",
       "3  @dee_man_8 @carlsenju trueeeee carl you might ...                   859   \n",
       "4  https://t.co/92ulbng17b #aliens #reebok #sneak...                  1261   \n",
       "\n",
       "      user-id           user-name  user-verified  \n",
       "0   219625957       Brown Iverson          False  \n",
       "1  3496892840       Shana Karlsen          False  \n",
       "2   330789656          Blackwrath          False  \n",
       "3   530866421           び Sears び          False  \n",
       "4    33005796  Christian D. Bruun          False  "
      ]
     },
     "execution_count": 442,
     "metadata": {},
     "output_type": "execute_result"
    }
   ],
   "source": [
    "fields = ['created_at','favorite_count','retweet_count']\n",
    "secondary_user_fields = ['verified','name','id','followers_count']\n",
    "brands = ['nike','adidas','reebok','under armour','puma']\n",
    "\n",
    "rows = []\n",
    "\n",
    "filename = \"march-30-2016\"\n",
    "with open(\"rawdata/\" + filename + \".json\") as file:\n",
    "    for line in file:\n",
    "        \n",
    "        if line == '\\n':\n",
    "            continue\n",
    "        try:\n",
    "            row = json.loads(line)\n",
    "\n",
    "            if 'id' not in row:\n",
    "                continue\n",
    "\n",
    "            text = row['text'].lower()\n",
    "\n",
    "            if any(brand in text for brand in brands):\n",
    "\n",
    "\n",
    "                d = {field : row[field] for field in fields}\n",
    "                d['text'] = text\n",
    "\n",
    "                for field in secondary_user_fields:\n",
    "                    d['user-' + field] = row['user'][field]\n",
    "\n",
    "                rows.append(d)\n",
    "        except:\n",
    "            pass\n",
    "            \n",
    "data = pd.DataFrame(rows)\n",
    "data.to_excel(filename + '.xlsx')\n",
    "data.head()"
   ]
  },
  {
   "cell_type": "markdown",
   "metadata": {},
   "source": [
    "* Making this script work took 8+ hours of debugging. Raw json string could only be read by Python JSON module by specifying the string was raw i.e., r\"This is a string.\". However, there is no way it seems to 'convert' a string to 'raw'. The 'r' prefix really tells the python interpreter how to read the string, but it doesn't modify the string. It just tells the interpreter to treat, say, \\n as two characters \\ and n, instead of as a newline character. After much tinkering, it seems as if ignoring certain lines that have problematic characters allows JSONmodule to parse the string into a Python Dictionary object. "
   ]
  },
  {
   "cell_type": "code",
   "execution_count": null,
   "metadata": {},
   "outputs": [],
   "source": [
    "# script to get all relevant fields\n",
    "fields = ['id', 'text','favorite_count','retweet_count','timestamp_ms']\n",
    "secondary_user_fields = ['verified','name','id','followers_count']\n",
    "d = {field : row[field] for field in fields}\n",
    "for field in secondary_user_fields:\n",
    "    d['user-' + field] = row['user'][field]"
   ]
  },
  {
   "cell_type": "markdown",
   "metadata": {},
   "source": [
    "#### Format of a raw JSON twitter string"
   ]
  },
  {
   "cell_type": "code",
   "execution_count": 113,
   "metadata": {},
   "outputs": [
    {
     "data": {
      "text/plain": [
       "'{\"created_at\":\"Mon Apr 04 04:03:32 +0000 2016\",\"id\":716838589334740992,\"id_str\":\"716838589334740992\",\"text\":\"Nothing is more frustrating than not being able to fall asleep \\ud83d\\ude44\",\"source\":\"<a href=\"http:\\\\/\\\\/twitter.com\\\\/download\\\\/iphone\" rel=\"nofollow\">Twitter for iPhone<\\\\/a>\",\"truncated\":false,\"in_reply_to_status_id\":null,\"in_reply_to_status_id_str\":null,\"in_reply_to_user_id\":null,\"in_reply_to_user_id_str\":null,\"in_reply_to_screen_name\":null,\"user\":{\"id\":2463188847,\"id_str\":\"2463188847\",\"name\":\"Meg\",\"screen_name\":\"mcdingwall\",\"location\":null,\"url\":null,\"description\":\"strength & faith  ll ECU 19\\'\",\"protected\":false,\"verified\":false,\"followers_count\":514,\"friends_count\":456,\"listed_count\":2,\"favourites_count\":2769,\"statuses_count\":4346,\"created_at\":\"Sat Apr 05 20:21:08 +0000 2014\",\"utc_offset\":-14400,\"time_zone\":\"Eastern Time (US & Canada)\",\"geo_enabled\":true,\"lang\":\"en\",\"contributors_enabled\":false,\"is_translator\":false,\"profile_background_color\":\"C0DEED\",\"profile_background_image_url\":\"http:\\\\/\\\\/abs.twimg.com\\\\/images\\\\/themes\\\\/theme1\\\\/bg.png\",\"profile_background_image_url_https\":\"https:\\\\/\\\\/abs.twimg.com\\\\/images\\\\/themes\\\\/theme1\\\\/bg.png\",\"profile_background_tile\":false,\"profile_link_color\":\"0084B4\",\"profile_sidebar_border_color\":\"C0DEED\",\"profile_sidebar_fill_color\":\"DDEEF6\",\"profile_text_color\":\"333333\",\"profile_use_background_image\":true,\"profile_image_url\":\"http:\\\\/\\\\/pbs.twimg.com\\\\/profile_images\\\\/705387896832991232\\\\/1NpCCNlL_normal.jpg\",\"profile_image_url_https\":\"https:\\\\/\\\\/pbs.twimg.com\\\\/profile_images\\\\/705387896832991232\\\\/1NpCCNlL_normal.jpg\",\"profile_banner_url\":\"https:\\\\/\\\\/pbs.twimg.com\\\\/profile_banners\\\\/2463188847\\\\/1454521517\",\"default_profile\":true,\"default_profile_image\":false,\"following\":null,\"follow_request_sent\":null,\"notifications\":null},\"geo\":null,\"coordinates\":null,\"place\":{\"id\":\"3b98b02fba3f9753\",\"url\":\"https:\\\\/\\\\/api.twitter.com\\\\/1.1\\\\/geo\\\\/id\\\\/3b98b02fba3f9753.json\",\"place_type\":\"admin\",\"name\":\"North Carolina\",\"full_name\":\"North Carolina, USA\",\"country_code\":\"US\",\"country\":\"United States\",\"bounding_box\":{\"type\":\"Polygon\",\"coordinates\":[[[-84.321948,33.752879],[-84.321948,36.588118],[-75.400120,36.588118],[-75.400120,33.752879]]]},\"attributes\":{}},\"contributors\":null,\"is_quote_status\":false,\"retweet_count\":0,\"favorite_count\":0,\"entities\":{\"hashtags\":[],\"urls\":[],\"user_mentions\":[],\"symbols\":[]},\"favorited\":false,\"retweeted\":false,\"filter_level\":\"low\",\"lang\":\"en\",\"timestamp_ms\":\"1459742612571\"}'"
      ]
     },
     "execution_count": 113,
     "metadata": {},
     "output_type": "execute_result"
    }
   ],
   "source": [
    "x"
   ]
  },
  {
   "cell_type": "code",
   "execution_count": 76,
   "metadata": {},
   "outputs": [
    {
     "data": {
      "text/plain": [
       "{'created_at': 'Mon Apr 04 04:03:32 +0000 2016',\n",
       " 'id': 716838589334740992,\n",
       " 'id_str': '716838589334740992',\n",
       " 'text': 'Nothing is more frustrating than not being able to fall asleep 🙄',\n",
       " 'source': '<a href=\"http://twitter.com/download/iphone\" rel=\"nofollow\">Twitter for iPhone</a>',\n",
       " 'truncated': False,\n",
       " 'in_reply_to_status_id': None,\n",
       " 'in_reply_to_status_id_str': None,\n",
       " 'in_reply_to_user_id': None,\n",
       " 'in_reply_to_user_id_str': None,\n",
       " 'in_reply_to_screen_name': None,\n",
       " 'user': {'id': 2463188847,\n",
       "  'id_str': '2463188847',\n",
       "  'name': 'Meg',\n",
       "  'screen_name': 'mcdingwall',\n",
       "  'location': None,\n",
       "  'url': None,\n",
       "  'description': \"strength & faith  ll ECU 19'\",\n",
       "  'protected': False,\n",
       "  'verified': False,\n",
       "  'followers_count': 514,\n",
       "  'friends_count': 456,\n",
       "  'listed_count': 2,\n",
       "  'favourites_count': 2769,\n",
       "  'statuses_count': 4346,\n",
       "  'created_at': 'Sat Apr 05 20:21:08 +0000 2014',\n",
       "  'utc_offset': -14400,\n",
       "  'time_zone': 'Eastern Time (US & Canada)',\n",
       "  'geo_enabled': True,\n",
       "  'lang': 'en',\n",
       "  'contributors_enabled': False,\n",
       "  'is_translator': False,\n",
       "  'profile_background_color': 'C0DEED',\n",
       "  'profile_background_image_url': 'http://abs.twimg.com/images/themes/theme1/bg.png',\n",
       "  'profile_background_image_url_https': 'https://abs.twimg.com/images/themes/theme1/bg.png',\n",
       "  'profile_background_tile': False,\n",
       "  'profile_link_color': '0084B4',\n",
       "  'profile_sidebar_border_color': 'C0DEED',\n",
       "  'profile_sidebar_fill_color': 'DDEEF6',\n",
       "  'profile_text_color': '333333',\n",
       "  'profile_use_background_image': True,\n",
       "  'profile_image_url': 'http://pbs.twimg.com/profile_images/705387896832991232/1NpCCNlL_normal.jpg',\n",
       "  'profile_image_url_https': 'https://pbs.twimg.com/profile_images/705387896832991232/1NpCCNlL_normal.jpg',\n",
       "  'profile_banner_url': 'https://pbs.twimg.com/profile_banners/2463188847/1454521517',\n",
       "  'default_profile': True,\n",
       "  'default_profile_image': False,\n",
       "  'following': None,\n",
       "  'follow_request_sent': None,\n",
       "  'notifications': None},\n",
       " 'geo': None,\n",
       " 'coordinates': None,\n",
       " 'place': {'id': '3b98b02fba3f9753',\n",
       "  'url': 'https://api.twitter.com/1.1/geo/id/3b98b02fba3f9753.json',\n",
       "  'place_type': 'admin',\n",
       "  'name': 'North Carolina',\n",
       "  'full_name': 'North Carolina, USA',\n",
       "  'country_code': 'US',\n",
       "  'country': 'United States',\n",
       "  'bounding_box': {'type': 'Polygon',\n",
       "   'coordinates': [[[-84.321948, 33.752879],\n",
       "     [-84.321948, 36.588118],\n",
       "     [-75.40012, 36.588118],\n",
       "     [-75.40012, 33.752879]]]},\n",
       "  'attributes': {}},\n",
       " 'contributors': None,\n",
       " 'is_quote_status': False,\n",
       " 'retweet_count': 0,\n",
       " 'favorite_count': 0,\n",
       " 'entities': {'hashtags': [], 'urls': [], 'user_mentions': [], 'symbols': []},\n",
       " 'favorited': False,\n",
       " 'retweeted': False,\n",
       " 'filter_level': 'low',\n",
       " 'lang': 'en',\n",
       " 'timestamp_ms': '1459742612571'}"
      ]
     },
     "execution_count": 76,
     "metadata": {},
     "output_type": "execute_result"
    }
   ],
   "source": [
    "json.loads(x)"
   ]
  },
  {
   "cell_type": "code",
   "execution_count": 23,
   "metadata": {},
   "outputs": [],
   "source": [
    "all_file_names = ['april-1-2016-1.xlsx',\n",
    " 'april-4-2016.xlsx',\n",
    " 'march-30-2016.xlsx',\n",
    " 'april-2-2016.xlsx',\n",
    " 'april-5-2016-1.xlsx',\n",
    " 'march-31-2016.xlsx']"
   ]
  },
  {
   "cell_type": "code",
   "execution_count": null,
   "metadata": {},
   "outputs": [],
   "source": [
    "# Files have been whittled down from 75 GB to 1 MB of tweets that pertain to sports brands"
   ]
  },
  {
   "cell_type": "code",
   "execution_count": 444,
   "metadata": {},
   "outputs": [],
   "source": [
    "# consolidate tweets from all days gathered (March 29-April 6) that mention the relevant sports brands\n",
    "all_data_frames = [pd.read_excel(filename) for filename in all_file_names]"
   ]
  },
  {
   "cell_type": "code",
   "execution_count": 28,
   "metadata": {},
   "outputs": [],
   "source": [
    "df = pd.concat(all_data_frames)"
   ]
  },
  {
   "cell_type": "code",
   "execution_count": 443,
   "metadata": {},
   "outputs": [
    {
     "data": {
      "text/html": [
       "<div>\n",
       "<style scoped>\n",
       "    .dataframe tbody tr th:only-of-type {\n",
       "        vertical-align: middle;\n",
       "    }\n",
       "\n",
       "    .dataframe tbody tr th {\n",
       "        vertical-align: top;\n",
       "    }\n",
       "\n",
       "    .dataframe thead th {\n",
       "        text-align: right;\n",
       "    }\n",
       "</style>\n",
       "<table border=\"1\" class=\"dataframe\">\n",
       "  <thead>\n",
       "    <tr style=\"text-align: right;\">\n",
       "      <th></th>\n",
       "      <th>created_at</th>\n",
       "      <th>favorite_count</th>\n",
       "      <th>retweet_count</th>\n",
       "      <th>text</th>\n",
       "      <th>user-followers_count</th>\n",
       "      <th>user-id</th>\n",
       "      <th>user-name</th>\n",
       "      <th>user-verified</th>\n",
       "    </tr>\n",
       "  </thead>\n",
       "  <tbody>\n",
       "  </tbody>\n",
       "</table>\n",
       "</div>"
      ],
      "text/plain": [
       "Empty DataFrame\n",
       "Columns: [created_at, favorite_count, retweet_count, text, user-followers_count, user-id, user-name, user-verified]\n",
       "Index: []"
      ]
     },
     "execution_count": 443,
     "metadata": {},
     "output_type": "execute_result"
    }
   ],
   "source": [
    "all_data[all_data['favorite_count'] != 0].head() # Tweet Favorited data not available?"
   ]
  },
  {
   "cell_type": "code",
   "execution_count": 590,
   "metadata": {},
   "outputs": [],
   "source": [
    "all_data.to_csv('sports_tweets.csv')"
   ]
  },
  {
   "cell_type": "markdown",
   "metadata": {},
   "source": [
    "## 9090 Tweets"
   ]
  },
  {
   "cell_type": "code",
   "execution_count": 592,
   "metadata": {},
   "outputs": [
    {
     "data": {
      "text/plain": [
       "(9090, 8)"
      ]
     },
     "execution_count": 592,
     "metadata": {},
     "output_type": "execute_result"
    }
   ],
   "source": [
    "all_data.shape"
   ]
  },
  {
   "cell_type": "code",
   "execution_count": 487,
   "metadata": {},
   "outputs": [
    {
     "data": {
      "text/html": [
       "<div>\n",
       "<style scoped>\n",
       "    .dataframe tbody tr th:only-of-type {\n",
       "        vertical-align: middle;\n",
       "    }\n",
       "\n",
       "    .dataframe tbody tr th {\n",
       "        vertical-align: top;\n",
       "    }\n",
       "\n",
       "    .dataframe thead th {\n",
       "        text-align: right;\n",
       "    }\n",
       "</style>\n",
       "<table border=\"1\" class=\"dataframe\">\n",
       "  <thead>\n",
       "    <tr style=\"text-align: right;\">\n",
       "      <th></th>\n",
       "      <th>created_at</th>\n",
       "      <th>favorite_count</th>\n",
       "      <th>retweet_count</th>\n",
       "      <th>text</th>\n",
       "      <th>user-followers_count</th>\n",
       "      <th>user-id</th>\n",
       "      <th>user-name</th>\n",
       "      <th>user-verified</th>\n",
       "    </tr>\n",
       "  </thead>\n",
       "  <tbody>\n",
       "    <tr>\n",
       "      <th>0</th>\n",
       "      <td>Fri Apr 01 04:07:27 +0000 2016</td>\n",
       "      <td>0</td>\n",
       "      <td>0</td>\n",
       "      <td>nike  https://t.co/oqqzkguwxg</td>\n",
       "      <td>123</td>\n",
       "      <td>3286850736</td>\n",
       "      <td>halie riviera</td>\n",
       "      <td>False</td>\n",
       "    </tr>\n",
       "    <tr>\n",
       "      <th>1</th>\n",
       "      <td>Fri Apr 01 04:08:03 +0000 2016</td>\n",
       "      <td>0</td>\n",
       "      <td>0</td>\n",
       "      <td>@puma @kyliejenner get a real job</td>\n",
       "      <td>171</td>\n",
       "      <td>3673126657</td>\n",
       "      <td>Renee Kelly</td>\n",
       "      <td>False</td>\n",
       "    </tr>\n",
       "    <tr>\n",
       "      <th>2</th>\n",
       "      <td>Fri Apr 01 04:08:20 +0000 2016</td>\n",
       "      <td>0</td>\n",
       "      <td>0</td>\n",
       "      <td>@adidasus is coming out with some 🔥🔥🔥 shoes la...</td>\n",
       "      <td>903</td>\n",
       "      <td>2345323497</td>\n",
       "      <td>Riley Taylor</td>\n",
       "      <td>False</td>\n",
       "    </tr>\n",
       "    <tr>\n",
       "      <th>3</th>\n",
       "      <td>Fri Apr 01 04:09:08 +0000 2016</td>\n",
       "      <td>0</td>\n",
       "      <td>0</td>\n",
       "      <td>nike https://t.co/9coycuqs2x</td>\n",
       "      <td>1634</td>\n",
       "      <td>60183705</td>\n",
       "      <td>B</td>\n",
       "      <td>False</td>\n",
       "    </tr>\n",
       "    <tr>\n",
       "      <th>4</th>\n",
       "      <td>Fri Apr 01 04:09:19 +0000 2016</td>\n",
       "      <td>0</td>\n",
       "      <td>0</td>\n",
       "      <td>@coleman_jordan call nike. send them to them, ...</td>\n",
       "      <td>296</td>\n",
       "      <td>1455815322</td>\n",
       "      <td>mw</td>\n",
       "      <td>False</td>\n",
       "    </tr>\n",
       "  </tbody>\n",
       "</table>\n",
       "</div>"
      ],
      "text/plain": [
       "                       created_at  favorite_count  retweet_count  \\\n",
       "0  Fri Apr 01 04:07:27 +0000 2016               0              0   \n",
       "1  Fri Apr 01 04:08:03 +0000 2016               0              0   \n",
       "2  Fri Apr 01 04:08:20 +0000 2016               0              0   \n",
       "3  Fri Apr 01 04:09:08 +0000 2016               0              0   \n",
       "4  Fri Apr 01 04:09:19 +0000 2016               0              0   \n",
       "\n",
       "                                                text  user-followers_count  \\\n",
       "0                      nike  https://t.co/oqqzkguwxg                   123   \n",
       "1                  @puma @kyliejenner get a real job                   171   \n",
       "2  @adidasus is coming out with some 🔥🔥🔥 shoes la...                   903   \n",
       "3                       nike https://t.co/9coycuqs2x                  1634   \n",
       "4  @coleman_jordan call nike. send them to them, ...                   296   \n",
       "\n",
       "      user-id      user-name  user-verified  \n",
       "0  3286850736  halie riviera          False  \n",
       "1  3673126657    Renee Kelly          False  \n",
       "2  2345323497   Riley Taylor          False  \n",
       "3    60183705              B          False  \n",
       "4  1455815322             mw          False  "
      ]
     },
     "execution_count": 487,
     "metadata": {},
     "output_type": "execute_result"
    }
   ],
   "source": [
    "all_data.head()"
   ]
  },
  {
   "cell_type": "markdown",
   "metadata": {},
   "source": [
    "### Example tweet"
   ]
  },
  {
   "cell_type": "code",
   "execution_count": 445,
   "metadata": {},
   "outputs": [
    {
     "data": {
      "text/plain": [
       "'manuel: nike will be official on august 1. proud of relationship school has had with adidas.'"
      ]
     },
     "execution_count": 445,
     "metadata": {},
     "output_type": "execute_result"
    }
   ],
   "source": [
    "df.loc[873]['text']"
   ]
  },
  {
   "cell_type": "code",
   "execution_count": 446,
   "metadata": {},
   "outputs": [
    {
     "data": {
      "text/html": [
       "<div>\n",
       "<style scoped>\n",
       "    .dataframe tbody tr th:only-of-type {\n",
       "        vertical-align: middle;\n",
       "    }\n",
       "\n",
       "    .dataframe tbody tr th {\n",
       "        vertical-align: top;\n",
       "    }\n",
       "\n",
       "    .dataframe thead th {\n",
       "        text-align: right;\n",
       "    }\n",
       "</style>\n",
       "<table border=\"1\" class=\"dataframe\">\n",
       "  <thead>\n",
       "    <tr style=\"text-align: right;\">\n",
       "      <th></th>\n",
       "      <th>created_at</th>\n",
       "      <th>favorite_count</th>\n",
       "      <th>hype-created</th>\n",
       "      <th>retweet_count</th>\n",
       "      <th>text</th>\n",
       "      <th>user-followers_count</th>\n",
       "      <th>user-id</th>\n",
       "      <th>user-name</th>\n",
       "      <th>user-verified</th>\n",
       "    </tr>\n",
       "  </thead>\n",
       "  <tbody>\n",
       "    <tr>\n",
       "      <th>8073</th>\n",
       "      <td>2016-03-31</td>\n",
       "      <td>0</td>\n",
       "      <td>42.490923</td>\n",
       "      <td>0</td>\n",
       "      <td>love and basketball shawnie easton 2.0 #nikedo...</td>\n",
       "      <td>3035846</td>\n",
       "      <td>256881576</td>\n",
       "      <td>Gabrielle Union</td>\n",
       "      <td>True</td>\n",
       "    </tr>\n",
       "    <tr>\n",
       "      <th>1679</th>\n",
       "      <td>2016-04-04</td>\n",
       "      <td>0</td>\n",
       "      <td>36.347803</td>\n",
       "      <td>0</td>\n",
       "      <td>qué bueno que ganó roman reigns, así @verockst...</td>\n",
       "      <td>1257467</td>\n",
       "      <td>43566131</td>\n",
       "      <td>Jimena Sanchez</td>\n",
       "      <td>True</td>\n",
       "    </tr>\n",
       "    <tr>\n",
       "      <th>9052</th>\n",
       "      <td>2016-04-01</td>\n",
       "      <td>0</td>\n",
       "      <td>37.910402</td>\n",
       "      <td>0</td>\n",
       "      <td>i loved vachetta tan leather on kicks until it...</td>\n",
       "      <td>677002</td>\n",
       "      <td>15097566</td>\n",
       "      <td>Nice Kicks</td>\n",
       "      <td>True</td>\n",
       "    </tr>\n",
       "    <tr>\n",
       "      <th>6472</th>\n",
       "      <td>2016-04-05</td>\n",
       "      <td>0</td>\n",
       "      <td>34.424298</td>\n",
       "      <td>0</td>\n",
       "      <td>world team adds udoka azubuike (nigeria/potter...</td>\n",
       "      <td>576474</td>\n",
       "      <td>17049258</td>\n",
       "      <td>USA Basketball</td>\n",
       "      <td>True</td>\n",
       "    </tr>\n",
       "    <tr>\n",
       "      <th>6349</th>\n",
       "      <td>2016-04-05</td>\n",
       "      <td>0</td>\n",
       "      <td>34.424208</td>\n",
       "      <td>0</td>\n",
       "      <td>don't miss nike news profile of usa @nikehoops...</td>\n",
       "      <td>576453</td>\n",
       "      <td>17049258</td>\n",
       "      <td>USA Basketball</td>\n",
       "      <td>True</td>\n",
       "    </tr>\n",
       "  </tbody>\n",
       "</table>\n",
       "</div>"
      ],
      "text/plain": [
       "      created_at  favorite_count  hype-created  retweet_count  \\\n",
       "8073  2016-03-31               0     42.490923              0   \n",
       "1679  2016-04-04               0     36.347803              0   \n",
       "9052  2016-04-01               0     37.910402              0   \n",
       "6472  2016-04-05               0     34.424298              0   \n",
       "6349  2016-04-05               0     34.424208              0   \n",
       "\n",
       "                                                   text  user-followers_count  \\\n",
       "8073  love and basketball shawnie easton 2.0 #nikedo...               3035846   \n",
       "1679  qué bueno que ganó roman reigns, así @verockst...               1257467   \n",
       "9052  i loved vachetta tan leather on kicks until it...                677002   \n",
       "6472  world team adds udoka azubuike (nigeria/potter...                576474   \n",
       "6349  don't miss nike news profile of usa @nikehoops...                576453   \n",
       "\n",
       "        user-id        user-name  user-verified  \n",
       "8073  256881576  Gabrielle Union           True  \n",
       "1679   43566131   Jimena Sanchez           True  \n",
       "9052   15097566       Nice Kicks           True  \n",
       "6472   17049258   USA Basketball           True  \n",
       "6349   17049258   USA Basketball           True  "
      ]
     },
     "execution_count": 446,
     "metadata": {},
     "output_type": "execute_result"
    }
   ],
   "source": [
    "# tweets sorted by follower-count of sender.\n",
    "df2.sort_values(by=['user-followers_count'], ascending=False).head()"
   ]
  },
  {
   "cell_type": "code",
   "execution_count": 41,
   "metadata": {},
   "outputs": [
    {
     "name": "stdout",
     "output_type": "stream",
     "text": [
      "Project 482.ipynb   april-3-2016.xlsx   main.py             \u001b[34mrawdata\u001b[m\u001b[m\r\n",
      "april-1-2016-1.xlsx april-4-2016.xlsx   march-30-2016.xlsx  \u001b[34mvenv\u001b[m\u001b[m\r\n",
      "april-2-2016.xlsx   april-5-2016-1.xlsx march-31-2016.xlsx\r\n"
     ]
    }
   ],
   "source": [
    "!ls "
   ]
  },
  {
   "cell_type": "code",
   "execution_count": 61,
   "metadata": {},
   "outputs": [],
   "source": [
    "from statistics import mean"
   ]
  },
  {
   "cell_type": "markdown",
   "metadata": {},
   "source": [
    "### Sentiment Analysis using TextBlob\n",
    "\n",
    "##### Example of positive sentence."
   ]
  },
  {
   "cell_type": "code",
   "execution_count": 452,
   "metadata": {},
   "outputs": [
    {
     "name": "stdout",
     "output_type": "stream",
     "text": [
      "1.0\n"
     ]
    }
   ],
   "source": [
    "import textblob\n",
    "text = \"Nike is the best company Ever\"\n",
    "blob = TextBlob(text)\n",
    "\n",
    "for sentence in blob.sentences:\n",
    "    print(sentence.sentiment.polarity)"
   ]
  },
  {
   "cell_type": "markdown",
   "metadata": {},
   "source": [
    "#### Example of negative sentence"
   ]
  },
  {
   "cell_type": "code",
   "execution_count": 455,
   "metadata": {},
   "outputs": [
    {
     "name": "stdout",
     "output_type": "stream",
     "text": [
      "-1.0\n"
     ]
    }
   ],
   "source": [
    "text = \"Puma is the worst company ever.\"\n",
    "\n",
    "for sentence in TextBlob(text).sentences:\n",
    "    print(sentence.sentiment.polarity)"
   ]
  },
  {
   "cell_type": "markdown",
   "metadata": {},
   "source": [
    "##### Example of ambivalent sentence."
   ]
  },
  {
   "cell_type": "code",
   "execution_count": 456,
   "metadata": {},
   "outputs": [
    {
     "name": "stdout",
     "output_type": "stream",
     "text": [
      "0.0\n"
     ]
    }
   ],
   "source": [
    "text = \"Reebok is alright.\"\n",
    "\n",
    "for sentence in TextBlob(text).sentences:\n",
    "    print(sentence.sentiment.polarity)"
   ]
  },
  {
   "cell_type": "code",
   "execution_count": null,
   "metadata": {},
   "outputs": [],
   "source": []
  },
  {
   "cell_type": "markdown",
   "metadata": {},
   "source": [
    "### Measuring the influence of a tweet\n",
    "\n",
    "1. get mean sentiment of all sentences in tweet.\n",
    "2. multiply the sentiment of a tweet by the number of followers that account has, to get 'hype', a new ad hoc measure I've coined for convenience\n",
    "3. 'Hype' is multiplied by 20 if its from a verified account. This is because being endorsed by a public figure is more influential than an anonymous account. That's why sports companies pay professional athletes to wear their products.\n",
    "4. Modulate the sentiment by finding the log(sentiment, 1.5). This step is more art than science: a tweet by someone with 1000 followers is not 1000x more influential than one from a 5-follower account. In my opinion it's about 5x more influential. Log(x, 1.5) achieves this. Also, it's not all about influence created, but capturing enthusiasm for a brand among lay people.\n",
    "\n",
    "\n",
    "This script also makes a new column in every row titled mean sentiment."
   ]
  },
  {
   "cell_type": "code",
   "execution_count": 475,
   "metadata": {},
   "outputs": [
    {
     "data": {
      "text/html": [
       "<div>\n",
       "<style scoped>\n",
       "    .dataframe tbody tr th:only-of-type {\n",
       "        vertical-align: middle;\n",
       "    }\n",
       "\n",
       "    .dataframe tbody tr th {\n",
       "        vertical-align: top;\n",
       "    }\n",
       "\n",
       "    .dataframe thead th {\n",
       "        text-align: right;\n",
       "    }\n",
       "</style>\n",
       "<table border=\"1\" class=\"dataframe\">\n",
       "  <thead>\n",
       "    <tr style=\"text-align: right;\">\n",
       "      <th></th>\n",
       "      <th>created_at</th>\n",
       "      <th>favorite_count</th>\n",
       "      <th>hype-created</th>\n",
       "      <th>retweet_count</th>\n",
       "      <th>text</th>\n",
       "      <th>user-followers_count</th>\n",
       "      <th>user-id</th>\n",
       "      <th>user-name</th>\n",
       "      <th>user-verified</th>\n",
       "    </tr>\n",
       "  </thead>\n",
       "  <tbody>\n",
       "    <tr>\n",
       "      <th>8073</th>\n",
       "      <td>Thu Mar 31 17:50:56 +0000 2016</td>\n",
       "      <td>0</td>\n",
       "      <td>42.490923</td>\n",
       "      <td>0</td>\n",
       "      <td>love and basketball shawnie easton 2.0 #nikedo...</td>\n",
       "      <td>3035846</td>\n",
       "      <td>256881576</td>\n",
       "      <td>Gabrielle Union</td>\n",
       "      <td>True</td>\n",
       "    </tr>\n",
       "    <tr>\n",
       "      <th>1679</th>\n",
       "      <td>Mon Apr 04 05:22:47 +0000 2016</td>\n",
       "      <td>0</td>\n",
       "      <td>36.347803</td>\n",
       "      <td>0</td>\n",
       "      <td>qué bueno que ganó roman reigns, así @verockst...</td>\n",
       "      <td>1257467</td>\n",
       "      <td>43566131</td>\n",
       "      <td>Jimena Sanchez</td>\n",
       "      <td>True</td>\n",
       "    </tr>\n",
       "    <tr>\n",
       "      <th>9052</th>\n",
       "      <td>Fri Apr 01 03:35:23 +0000 2016</td>\n",
       "      <td>0</td>\n",
       "      <td>37.910402</td>\n",
       "      <td>0</td>\n",
       "      <td>i loved vachetta tan leather on kicks until it...</td>\n",
       "      <td>677002</td>\n",
       "      <td>15097566</td>\n",
       "      <td>Nice Kicks</td>\n",
       "      <td>True</td>\n",
       "    </tr>\n",
       "    <tr>\n",
       "      <th>6472</th>\n",
       "      <td>Tue Apr 05 17:37:02 +0000 2016</td>\n",
       "      <td>0</td>\n",
       "      <td>34.424298</td>\n",
       "      <td>0</td>\n",
       "      <td>world team adds udoka azubuike (nigeria/potter...</td>\n",
       "      <td>576474</td>\n",
       "      <td>17049258</td>\n",
       "      <td>USA Basketball</td>\n",
       "      <td>True</td>\n",
       "    </tr>\n",
       "    <tr>\n",
       "      <th>6349</th>\n",
       "      <td>Tue Apr 05 16:09:56 +0000 2016</td>\n",
       "      <td>0</td>\n",
       "      <td>34.424208</td>\n",
       "      <td>0</td>\n",
       "      <td>don't miss nike news profile of usa @nikehoops...</td>\n",
       "      <td>576453</td>\n",
       "      <td>17049258</td>\n",
       "      <td>USA Basketball</td>\n",
       "      <td>True</td>\n",
       "    </tr>\n",
       "  </tbody>\n",
       "</table>\n",
       "</div>"
      ],
      "text/plain": [
       "                          created_at  favorite_count  hype-created  \\\n",
       "8073  Thu Mar 31 17:50:56 +0000 2016               0     42.490923   \n",
       "1679  Mon Apr 04 05:22:47 +0000 2016               0     36.347803   \n",
       "9052  Fri Apr 01 03:35:23 +0000 2016               0     37.910402   \n",
       "6472  Tue Apr 05 17:37:02 +0000 2016               0     34.424298   \n",
       "6349  Tue Apr 05 16:09:56 +0000 2016               0     34.424208   \n",
       "\n",
       "      retweet_count                                               text  \\\n",
       "8073              0  love and basketball shawnie easton 2.0 #nikedo...   \n",
       "1679              0  qué bueno que ganó roman reigns, así @verockst...   \n",
       "9052              0  i loved vachetta tan leather on kicks until it...   \n",
       "6472              0  world team adds udoka azubuike (nigeria/potter...   \n",
       "6349              0  don't miss nike news profile of usa @nikehoops...   \n",
       "\n",
       "      user-followers_count    user-id        user-name  user-verified  \n",
       "8073               3035846  256881576  Gabrielle Union           True  \n",
       "1679               1257467   43566131   Jimena Sanchez           True  \n",
       "9052                677002   15097566       Nice Kicks           True  \n",
       "6472                576474   17049258   USA Basketball           True  \n",
       "6349                576453   17049258   USA Basketball           True  "
      ]
     },
     "execution_count": 475,
     "metadata": {},
     "output_type": "execute_result"
    }
   ],
   "source": [
    "dataList = df.to_dict('records')\n",
    "from statistics import mean\n",
    "\n",
    "\n",
    "def scoringFunction(dic, sentiment):\n",
    "    \"\"\"given a raw sentiment, it's 'normalizes' it according to an algorithm based on intuition\"\"\"\n",
    "    if sentiment == 0:\n",
    "        sentiment = .1 # a neutral mention is actually positive in terms of the stock market. Thus include it\n",
    "    followers = int(dic['user-followers_count']) + 1\n",
    "    verified = dic['user-verified']\n",
    "   \n",
    "    score = (followers * sentiment) + 1\n",
    "    if verified:\n",
    "        score *= 20 # being verified makes a tweet more authoritative, thus more influence\n",
    "    if score < 0: # log of negative number is undefined\n",
    "        return -1 * log(abs(score), 1.5)\n",
    "    else:\n",
    "        return log(score,1.5)\n",
    "    \n",
    "# \n",
    "def addSentiment(dataList):\n",
    "    '''Adds sentiment score to each data row'''\n",
    "    for row in dataList:\n",
    "        x = [sentence.sentiment.polarity for sentence in TextBlob(str(row['text'])).sentences]\n",
    "        row['hype-created'] = scoringFunction(row, mean(x))\n",
    "        \n",
    "addSentiment(dataList)\n",
    "df2 = pd.DataFrame(dataList)\n",
    "df2\n",
    "df2.sort_values(by=['user-followers_count'], ascending=False).head()"
   ]
  },
  {
   "cell_type": "code",
   "execution_count": 591,
   "metadata": {},
   "outputs": [],
   "source": [
    "df2.to_csv('sports_tweets_with_sentiment.csv')"
   ]
  },
  {
   "cell_type": "markdown",
   "metadata": {},
   "source": [
    "### Here we can see the most influential tweet achieves a hype of 42.49 by a verified account with 3 million followers."
   ]
  },
  {
   "cell_type": "markdown",
   "metadata": {},
   "source": [
    "#### The stock data's granularity is by date. Thus our tweet should match this as well. This script standardizes the format of the tweet date columns, removing time data. This is the format used by the Yahoo finance data we will be using later on."
   ]
  },
  {
   "cell_type": "code",
   "execution_count": 476,
   "metadata": {},
   "outputs": [],
   "source": [
    "dates = ['Mar 30','Mar 31','Apr 01','Apr 02','Apr 03','Apr 04','Apr 05','Apr 06']\n",
    "new_dates = ['2016-03-30', '2016-03-31', '2016-04-01', '2016-04-02', '2016-04-03', '2016-04-04', '2016-04-05','2016-04-06']\n",
    "dateDict = dict(zip(dates, new_dates))"
   ]
  },
  {
   "cell_type": "code",
   "execution_count": 478,
   "metadata": {},
   "outputs": [],
   "source": [
    "for row in dataList:\n",
    "    date = row['created_at']\n",
    "    for d, val in dateDict.items():\n",
    "        if d in date:\n",
    "            row['created_at'] = val\n",
    "            continue"
   ]
  },
  {
   "cell_type": "code",
   "execution_count": 479,
   "metadata": {},
   "outputs": [
    {
     "data": {
      "text/html": [
       "<div>\n",
       "<style scoped>\n",
       "    .dataframe tbody tr th:only-of-type {\n",
       "        vertical-align: middle;\n",
       "    }\n",
       "\n",
       "    .dataframe tbody tr th {\n",
       "        vertical-align: top;\n",
       "    }\n",
       "\n",
       "    .dataframe thead th {\n",
       "        text-align: right;\n",
       "    }\n",
       "</style>\n",
       "<table border=\"1\" class=\"dataframe\">\n",
       "  <thead>\n",
       "    <tr style=\"text-align: right;\">\n",
       "      <th></th>\n",
       "      <th>created_at</th>\n",
       "      <th>favorite_count</th>\n",
       "      <th>hype-created</th>\n",
       "      <th>retweet_count</th>\n",
       "      <th>text</th>\n",
       "      <th>user-followers_count</th>\n",
       "      <th>user-id</th>\n",
       "      <th>user-name</th>\n",
       "      <th>user-verified</th>\n",
       "    </tr>\n",
       "  </thead>\n",
       "  <tbody>\n",
       "    <tr>\n",
       "      <th>0</th>\n",
       "      <td>2016-04-01</td>\n",
       "      <td>0</td>\n",
       "      <td>6.400686</td>\n",
       "      <td>0</td>\n",
       "      <td>nike  https://t.co/oqqzkguwxg</td>\n",
       "      <td>123</td>\n",
       "      <td>3286850736</td>\n",
       "      <td>halie riviera</td>\n",
       "      <td>False</td>\n",
       "    </tr>\n",
       "    <tr>\n",
       "      <th>1</th>\n",
       "      <td>2016-04-01</td>\n",
       "      <td>0</td>\n",
       "      <td>8.796594</td>\n",
       "      <td>0</td>\n",
       "      <td>@puma @kyliejenner get a real job</td>\n",
       "      <td>171</td>\n",
       "      <td>3673126657</td>\n",
       "      <td>Renee Kelly</td>\n",
       "      <td>False</td>\n",
       "    </tr>\n",
       "    <tr>\n",
       "      <th>2</th>\n",
       "      <td>2016-04-01</td>\n",
       "      <td>0</td>\n",
       "      <td>11.135966</td>\n",
       "      <td>0</td>\n",
       "      <td>@adidasus is coming out with some 🔥🔥🔥 shoes la...</td>\n",
       "      <td>903</td>\n",
       "      <td>2345323497</td>\n",
       "      <td>Riley Taylor</td>\n",
       "      <td>False</td>\n",
       "    </tr>\n",
       "    <tr>\n",
       "      <th>3</th>\n",
       "      <td>2016-04-01</td>\n",
       "      <td>0</td>\n",
       "      <td>12.585326</td>\n",
       "      <td>0</td>\n",
       "      <td>nike https://t.co/9coycuqs2x</td>\n",
       "      <td>1634</td>\n",
       "      <td>60183705</td>\n",
       "      <td>B</td>\n",
       "      <td>False</td>\n",
       "    </tr>\n",
       "    <tr>\n",
       "      <th>4</th>\n",
       "      <td>2016-04-01</td>\n",
       "      <td>0</td>\n",
       "      <td>8.445271</td>\n",
       "      <td>0</td>\n",
       "      <td>@coleman_jordan call nike. send them to them, ...</td>\n",
       "      <td>296</td>\n",
       "      <td>1455815322</td>\n",
       "      <td>mw</td>\n",
       "      <td>False</td>\n",
       "    </tr>\n",
       "  </tbody>\n",
       "</table>\n",
       "</div>"
      ],
      "text/plain": [
       "   created_at  favorite_count  hype-created  retweet_count  \\\n",
       "0  2016-04-01               0      6.400686              0   \n",
       "1  2016-04-01               0      8.796594              0   \n",
       "2  2016-04-01               0     11.135966              0   \n",
       "3  2016-04-01               0     12.585326              0   \n",
       "4  2016-04-01               0      8.445271              0   \n",
       "\n",
       "                                                text  user-followers_count  \\\n",
       "0                      nike  https://t.co/oqqzkguwxg                   123   \n",
       "1                  @puma @kyliejenner get a real job                   171   \n",
       "2  @adidasus is coming out with some 🔥🔥🔥 shoes la...                   903   \n",
       "3                       nike https://t.co/9coycuqs2x                  1634   \n",
       "4  @coleman_jordan call nike. send them to them, ...                   296   \n",
       "\n",
       "      user-id      user-name  user-verified  \n",
       "0  3286850736  halie riviera          False  \n",
       "1  3673126657    Renee Kelly          False  \n",
       "2  2345323497   Riley Taylor          False  \n",
       "3    60183705              B          False  \n",
       "4  1455815322             mw          False  "
      ]
     },
     "execution_count": 479,
     "metadata": {},
     "output_type": "execute_result"
    }
   ],
   "source": [
    "df3 = pd.DataFrame(dataList)\n",
    "df3.head()"
   ]
  },
  {
   "cell_type": "code",
   "execution_count": 270,
   "metadata": {},
   "outputs": [],
   "source": [
    "# remove two useless columns from the dataframe because they're all zero!\n",
    "for row in dataList:\n",
    "    row.pop('favorite_count')\n",
    "    row.pop('retweet_count')"
   ]
  },
  {
   "cell_type": "code",
   "execution_count": 489,
   "metadata": {},
   "outputs": [],
   "source": [
    "# make list of dictionaries into list of tuples because that's what sqlite expects as an argument for its executemany method\n",
    "insertionList = [tuple(row.values()) for row in dataList]"
   ]
  },
  {
   "cell_type": "markdown",
   "metadata": {},
   "source": [
    "## Make sqlite3 database of tweets\n",
    "\n",
    "* the main purpose of this is that the 'group by' sql function makes what I'm trying to do very convenient (that is, group all tweets by date it was tweeted), and b, show proficiency in something I learned from class."
   ]
  },
  {
   "cell_type": "code",
   "execution_count": 272,
   "metadata": {},
   "outputs": [],
   "source": [
    "# insert all tweets into database\n",
    "\n",
    "import sqlite3\n",
    "conn = sqlite3.connect(\"proj482.db\")\n",
    "conn.execute(\"CREATE TABLE tweets (created_at text, tweet text ,user_followers_count int, user_id int, user_name text, user_verified text, hype_created real);\")\n",
    "conn.executemany(\"INSERT INTO tweets(created_at,tweet , user_followers_count, user_id, user_name, user_verified , hype_created ) VALUES (?,?,?,?,?,?,?);\", insertionList)\n",
    "conn.commit()\n"
   ]
  },
  {
   "cell_type": "code",
   "execution_count": 488,
   "metadata": {},
   "outputs": [
    {
     "name": "stdout",
     "output_type": "stream",
     "text": [
      "('2016-03-30', 8.103674774790845)\n",
      "('2016-03-31', 8.022228623004015)\n",
      "('2016-04-01', 8.054773872194504)\n",
      "('2016-04-02', 7.29405767115563)\n",
      "('2016-04-03', 7.6848204194519605)\n",
      "('2016-04-04', 8.538105684324735)\n",
      "('2016-04-05', 7.886625640681083)\n",
      "('2016-04-06', 8.035456456933693)\n"
     ]
    }
   ],
   "source": [
    "#run select statement\n",
    "\n",
    "conn = sqlite3.connect(\"proj482.db\")\n",
    "query = \"\"\"\n",
    "select created_at, avg(hype_created)\n",
    "from tweets\n",
    "group by created_at;\n",
    "\"\"\"\n",
    "results = conn.execute(query)\n",
    "\n",
    "for row in results:\n",
    "    print(row)\n",
    "    \n",
    "conn.close()"
   ]
  },
  {
   "cell_type": "markdown",
   "metadata": {},
   "source": [
    "## Get historical stock data for all our chosen stocks from Yahoo Finance. Site: [link](https://finance.yahoo.com/quote/NKE/). Only get data for dates we managed to get dates from."
   ]
  },
  {
   "cell_type": "markdown",
   "metadata": {},
   "source": [
    "##### Nike"
   ]
  },
  {
   "cell_type": "code",
   "execution_count": 279,
   "metadata": {},
   "outputs": [
    {
     "data": {
      "text/html": [
       "<div>\n",
       "<style scoped>\n",
       "    .dataframe tbody tr th:only-of-type {\n",
       "        vertical-align: middle;\n",
       "    }\n",
       "\n",
       "    .dataframe tbody tr th {\n",
       "        vertical-align: top;\n",
       "    }\n",
       "\n",
       "    .dataframe thead th {\n",
       "        text-align: right;\n",
       "    }\n",
       "</style>\n",
       "<table border=\"1\" class=\"dataframe\">\n",
       "  <thead>\n",
       "    <tr style=\"text-align: right;\">\n",
       "      <th></th>\n",
       "      <th>Date</th>\n",
       "      <th>Open</th>\n",
       "      <th>High</th>\n",
       "      <th>Low</th>\n",
       "      <th>Close</th>\n",
       "      <th>Adj Close</th>\n",
       "      <th>Volume</th>\n",
       "    </tr>\n",
       "  </thead>\n",
       "  <tbody>\n",
       "    <tr>\n",
       "      <th>0</th>\n",
       "      <td>2016-03-28</td>\n",
       "      <td>61.580002</td>\n",
       "      <td>61.980000</td>\n",
       "      <td>61.250000</td>\n",
       "      <td>61.340000</td>\n",
       "      <td>58.988018</td>\n",
       "      <td>7899000</td>\n",
       "    </tr>\n",
       "    <tr>\n",
       "      <th>1</th>\n",
       "      <td>2016-03-29</td>\n",
       "      <td>61.259998</td>\n",
       "      <td>61.900002</td>\n",
       "      <td>61.250000</td>\n",
       "      <td>61.490002</td>\n",
       "      <td>59.132275</td>\n",
       "      <td>7837800</td>\n",
       "    </tr>\n",
       "    <tr>\n",
       "      <th>2</th>\n",
       "      <td>2016-03-30</td>\n",
       "      <td>61.770000</td>\n",
       "      <td>62.410000</td>\n",
       "      <td>61.770000</td>\n",
       "      <td>62.040001</td>\n",
       "      <td>59.661171</td>\n",
       "      <td>7859300</td>\n",
       "    </tr>\n",
       "    <tr>\n",
       "      <th>3</th>\n",
       "      <td>2016-03-31</td>\n",
       "      <td>61.990002</td>\n",
       "      <td>62.639999</td>\n",
       "      <td>61.310001</td>\n",
       "      <td>61.470001</td>\n",
       "      <td>59.113026</td>\n",
       "      <td>8257800</td>\n",
       "    </tr>\n",
       "    <tr>\n",
       "      <th>4</th>\n",
       "      <td>2016-04-01</td>\n",
       "      <td>61.220001</td>\n",
       "      <td>61.820000</td>\n",
       "      <td>61.150002</td>\n",
       "      <td>61.590000</td>\n",
       "      <td>59.228432</td>\n",
       "      <td>7555300</td>\n",
       "    </tr>\n",
       "    <tr>\n",
       "      <th>5</th>\n",
       "      <td>2016-04-04</td>\n",
       "      <td>61.730000</td>\n",
       "      <td>61.849998</td>\n",
       "      <td>59.419998</td>\n",
       "      <td>59.970001</td>\n",
       "      <td>57.670536</td>\n",
       "      <td>16523400</td>\n",
       "    </tr>\n",
       "    <tr>\n",
       "      <th>6</th>\n",
       "      <td>2016-04-05</td>\n",
       "      <td>59.619999</td>\n",
       "      <td>60.169998</td>\n",
       "      <td>59.439999</td>\n",
       "      <td>59.669998</td>\n",
       "      <td>57.382050</td>\n",
       "      <td>7554000</td>\n",
       "    </tr>\n",
       "    <tr>\n",
       "      <th>7</th>\n",
       "      <td>2016-04-06</td>\n",
       "      <td>59.599998</td>\n",
       "      <td>60.680000</td>\n",
       "      <td>59.189999</td>\n",
       "      <td>60.310001</td>\n",
       "      <td>57.997513</td>\n",
       "      <td>10201500</td>\n",
       "    </tr>\n",
       "  </tbody>\n",
       "</table>\n",
       "</div>"
      ],
      "text/plain": [
       "         Date       Open       High        Low      Close  Adj Close    Volume\n",
       "0  2016-03-28  61.580002  61.980000  61.250000  61.340000  58.988018   7899000\n",
       "1  2016-03-29  61.259998  61.900002  61.250000  61.490002  59.132275   7837800\n",
       "2  2016-03-30  61.770000  62.410000  61.770000  62.040001  59.661171   7859300\n",
       "3  2016-03-31  61.990002  62.639999  61.310001  61.470001  59.113026   8257800\n",
       "4  2016-04-01  61.220001  61.820000  61.150002  61.590000  59.228432   7555300\n",
       "5  2016-04-04  61.730000  61.849998  59.419998  59.970001  57.670536  16523400\n",
       "6  2016-04-05  59.619999  60.169998  59.439999  59.669998  57.382050   7554000\n",
       "7  2016-04-06  59.599998  60.680000  59.189999  60.310001  57.997513  10201500"
      ]
     },
     "execution_count": 279,
     "metadata": {},
     "output_type": "execute_result"
    }
   ],
   "source": [
    "import pandas as pd\n",
    "%matplotlib inline\n",
    "\n",
    "nike_data = pd.read_csv('NKE.csv', header='infer' )\n",
    "nike_data"
   ]
  },
  {
   "cell_type": "markdown",
   "metadata": {},
   "source": [
    "##### Adidas"
   ]
  },
  {
   "cell_type": "code",
   "execution_count": 297,
   "metadata": {},
   "outputs": [
    {
     "data": {
      "text/html": [
       "<div>\n",
       "<style scoped>\n",
       "    .dataframe tbody tr th:only-of-type {\n",
       "        vertical-align: middle;\n",
       "    }\n",
       "\n",
       "    .dataframe tbody tr th {\n",
       "        vertical-align: top;\n",
       "    }\n",
       "\n",
       "    .dataframe thead th {\n",
       "        text-align: right;\n",
       "    }\n",
       "</style>\n",
       "<table border=\"1\" class=\"dataframe\">\n",
       "  <thead>\n",
       "    <tr style=\"text-align: right;\">\n",
       "      <th></th>\n",
       "      <th>Date</th>\n",
       "      <th>Open</th>\n",
       "      <th>High</th>\n",
       "      <th>Low</th>\n",
       "      <th>Close</th>\n",
       "      <th>Adj Close</th>\n",
       "      <th>Volume</th>\n",
       "    </tr>\n",
       "  </thead>\n",
       "  <tbody>\n",
       "    <tr>\n",
       "      <th>0</th>\n",
       "      <td>2016-03-29</td>\n",
       "      <td>103.099998</td>\n",
       "      <td>103.349998</td>\n",
       "      <td>101.900002</td>\n",
       "      <td>102.400002</td>\n",
       "      <td>97.120506</td>\n",
       "      <td>624648</td>\n",
       "    </tr>\n",
       "    <tr>\n",
       "      <th>1</th>\n",
       "      <td>2016-03-30</td>\n",
       "      <td>102.900002</td>\n",
       "      <td>104.750000</td>\n",
       "      <td>102.750000</td>\n",
       "      <td>104.599998</td>\n",
       "      <td>99.207085</td>\n",
       "      <td>593457</td>\n",
       "    </tr>\n",
       "    <tr>\n",
       "      <th>2</th>\n",
       "      <td>2016-03-31</td>\n",
       "      <td>104.300003</td>\n",
       "      <td>104.699997</td>\n",
       "      <td>102.949997</td>\n",
       "      <td>103.000000</td>\n",
       "      <td>97.689575</td>\n",
       "      <td>562256</td>\n",
       "    </tr>\n",
       "    <tr>\n",
       "      <th>3</th>\n",
       "      <td>2016-04-01</td>\n",
       "      <td>102.300003</td>\n",
       "      <td>102.900002</td>\n",
       "      <td>101.150002</td>\n",
       "      <td>102.449997</td>\n",
       "      <td>97.167931</td>\n",
       "      <td>589447</td>\n",
       "    </tr>\n",
       "    <tr>\n",
       "      <th>4</th>\n",
       "      <td>2016-04-04</td>\n",
       "      <td>102.150002</td>\n",
       "      <td>103.949997</td>\n",
       "      <td>101.900002</td>\n",
       "      <td>103.849998</td>\n",
       "      <td>98.495750</td>\n",
       "      <td>512238</td>\n",
       "    </tr>\n",
       "    <tr>\n",
       "      <th>5</th>\n",
       "      <td>2016-04-05</td>\n",
       "      <td>102.599998</td>\n",
       "      <td>103.400002</td>\n",
       "      <td>102.400002</td>\n",
       "      <td>102.750000</td>\n",
       "      <td>97.452461</td>\n",
       "      <td>616977</td>\n",
       "    </tr>\n",
       "    <tr>\n",
       "      <th>6</th>\n",
       "      <td>2016-04-06</td>\n",
       "      <td>102.800003</td>\n",
       "      <td>104.150002</td>\n",
       "      <td>101.650002</td>\n",
       "      <td>104.099998</td>\n",
       "      <td>98.732849</td>\n",
       "      <td>514152</td>\n",
       "    </tr>\n",
       "  </tbody>\n",
       "</table>\n",
       "</div>"
      ],
      "text/plain": [
       "         Date        Open        High         Low       Close  Adj Close  \\\n",
       "0  2016-03-29  103.099998  103.349998  101.900002  102.400002  97.120506   \n",
       "1  2016-03-30  102.900002  104.750000  102.750000  104.599998  99.207085   \n",
       "2  2016-03-31  104.300003  104.699997  102.949997  103.000000  97.689575   \n",
       "3  2016-04-01  102.300003  102.900002  101.150002  102.449997  97.167931   \n",
       "4  2016-04-04  102.150002  103.949997  101.900002  103.849998  98.495750   \n",
       "5  2016-04-05  102.599998  103.400002  102.400002  102.750000  97.452461   \n",
       "6  2016-04-06  102.800003  104.150002  101.650002  104.099998  98.732849   \n",
       "\n",
       "   Volume  \n",
       "0  624648  \n",
       "1  593457  \n",
       "2  562256  \n",
       "3  589447  \n",
       "4  512238  \n",
       "5  616977  \n",
       "6  514152  "
      ]
     },
     "execution_count": 297,
     "metadata": {},
     "output_type": "execute_result"
    }
   ],
   "source": [
    "adidas_data = pd.read_csv( 'ADS.DE.csv', header='infer' )\n",
    "adidas_data"
   ]
  },
  {
   "cell_type": "markdown",
   "metadata": {},
   "source": [
    "##### Under Armour"
   ]
  },
  {
   "cell_type": "code",
   "execution_count": 281,
   "metadata": {},
   "outputs": [
    {
     "data": {
      "text/html": [
       "<div>\n",
       "<style scoped>\n",
       "    .dataframe tbody tr th:only-of-type {\n",
       "        vertical-align: middle;\n",
       "    }\n",
       "\n",
       "    .dataframe tbody tr th {\n",
       "        vertical-align: top;\n",
       "    }\n",
       "\n",
       "    .dataframe thead th {\n",
       "        text-align: right;\n",
       "    }\n",
       "</style>\n",
       "<table border=\"1\" class=\"dataframe\">\n",
       "  <thead>\n",
       "    <tr style=\"text-align: right;\">\n",
       "      <th></th>\n",
       "      <th>Date</th>\n",
       "      <th>Open</th>\n",
       "      <th>High</th>\n",
       "      <th>Low</th>\n",
       "      <th>Close</th>\n",
       "      <th>Adj Close</th>\n",
       "      <th>Volume</th>\n",
       "    </tr>\n",
       "  </thead>\n",
       "  <tbody>\n",
       "    <tr>\n",
       "      <th>0</th>\n",
       "      <td>2016-03-28</td>\n",
       "      <td>40.582272</td>\n",
       "      <td>40.582272</td>\n",
       "      <td>40.582272</td>\n",
       "      <td>40.582272</td>\n",
       "      <td>40.582272</td>\n",
       "      <td>0</td>\n",
       "    </tr>\n",
       "    <tr>\n",
       "      <th>1</th>\n",
       "      <td>2016-03-29</td>\n",
       "      <td>40.582272</td>\n",
       "      <td>40.582272</td>\n",
       "      <td>40.582272</td>\n",
       "      <td>40.582272</td>\n",
       "      <td>40.582272</td>\n",
       "      <td>0</td>\n",
       "    </tr>\n",
       "    <tr>\n",
       "      <th>2</th>\n",
       "      <td>2016-03-30</td>\n",
       "      <td>41.187977</td>\n",
       "      <td>41.704315</td>\n",
       "      <td>41.178047</td>\n",
       "      <td>41.704315</td>\n",
       "      <td>41.704315</td>\n",
       "      <td>3700</td>\n",
       "    </tr>\n",
       "    <tr>\n",
       "      <th>3</th>\n",
       "      <td>2016-03-31</td>\n",
       "      <td>41.704315</td>\n",
       "      <td>41.704315</td>\n",
       "      <td>41.426289</td>\n",
       "      <td>41.426289</td>\n",
       "      <td>41.426289</td>\n",
       "      <td>600</td>\n",
       "    </tr>\n",
       "    <tr>\n",
       "      <th>4</th>\n",
       "      <td>2016-04-01</td>\n",
       "      <td>40.800724</td>\n",
       "      <td>40.800724</td>\n",
       "      <td>40.800724</td>\n",
       "      <td>40.800724</td>\n",
       "      <td>40.800724</td>\n",
       "      <td>100</td>\n",
       "    </tr>\n",
       "    <tr>\n",
       "      <th>5</th>\n",
       "      <td>2016-04-04</td>\n",
       "      <td>40.800724</td>\n",
       "      <td>40.800724</td>\n",
       "      <td>40.800724</td>\n",
       "      <td>40.800724</td>\n",
       "      <td>40.800724</td>\n",
       "      <td>0</td>\n",
       "    </tr>\n",
       "    <tr>\n",
       "      <th>6</th>\n",
       "      <td>2016-04-05</td>\n",
       "      <td>40.214878</td>\n",
       "      <td>41.734104</td>\n",
       "      <td>40.214878</td>\n",
       "      <td>40.800724</td>\n",
       "      <td>40.800724</td>\n",
       "      <td>1700</td>\n",
       "    </tr>\n",
       "    <tr>\n",
       "      <th>7</th>\n",
       "      <td>2016-04-06</td>\n",
       "      <td>41.058891</td>\n",
       "      <td>41.704315</td>\n",
       "      <td>40.770935</td>\n",
       "      <td>41.505726</td>\n",
       "      <td>41.505726</td>\n",
       "      <td>700</td>\n",
       "    </tr>\n",
       "  </tbody>\n",
       "</table>\n",
       "</div>"
      ],
      "text/plain": [
       "         Date       Open       High        Low      Close  Adj Close  Volume\n",
       "0  2016-03-28  40.582272  40.582272  40.582272  40.582272  40.582272       0\n",
       "1  2016-03-29  40.582272  40.582272  40.582272  40.582272  40.582272       0\n",
       "2  2016-03-30  41.187977  41.704315  41.178047  41.704315  41.704315    3700\n",
       "3  2016-03-31  41.704315  41.704315  41.426289  41.426289  41.426289     600\n",
       "4  2016-04-01  40.800724  40.800724  40.800724  40.800724  40.800724     100\n",
       "5  2016-04-04  40.800724  40.800724  40.800724  40.800724  40.800724       0\n",
       "6  2016-04-05  40.214878  41.734104  40.214878  40.800724  40.800724    1700\n",
       "7  2016-04-06  41.058891  41.704315  40.770935  41.505726  41.505726     700"
      ]
     },
     "execution_count": 281,
     "metadata": {},
     "output_type": "execute_result"
    }
   ],
   "source": [
    "ua_data = pd.read_csv( 'UA.csv', header='infer' )\n",
    "ua_data"
   ]
  },
  {
   "cell_type": "markdown",
   "metadata": {},
   "source": [
    "##### Puma"
   ]
  },
  {
   "cell_type": "code",
   "execution_count": 282,
   "metadata": {},
   "outputs": [
    {
     "data": {
      "text/html": [
       "<div>\n",
       "<style scoped>\n",
       "    .dataframe tbody tr th:only-of-type {\n",
       "        vertical-align: middle;\n",
       "    }\n",
       "\n",
       "    .dataframe tbody tr th {\n",
       "        vertical-align: top;\n",
       "    }\n",
       "\n",
       "    .dataframe thead th {\n",
       "        text-align: right;\n",
       "    }\n",
       "</style>\n",
       "<table border=\"1\" class=\"dataframe\">\n",
       "  <thead>\n",
       "    <tr style=\"text-align: right;\">\n",
       "      <th></th>\n",
       "      <th>Date</th>\n",
       "      <th>Open</th>\n",
       "      <th>High</th>\n",
       "      <th>Low</th>\n",
       "      <th>Close</th>\n",
       "      <th>Adj Close</th>\n",
       "      <th>Volume</th>\n",
       "    </tr>\n",
       "  </thead>\n",
       "  <tbody>\n",
       "    <tr>\n",
       "      <th>0</th>\n",
       "      <td>2016-03-29</td>\n",
       "      <td>193.199997</td>\n",
       "      <td>193.500000</td>\n",
       "      <td>190.500000</td>\n",
       "      <td>193.449997</td>\n",
       "      <td>190.332138</td>\n",
       "      <td>1404</td>\n",
       "    </tr>\n",
       "    <tr>\n",
       "      <th>1</th>\n",
       "      <td>2016-03-30</td>\n",
       "      <td>194.699997</td>\n",
       "      <td>194.699997</td>\n",
       "      <td>190.600006</td>\n",
       "      <td>194.100006</td>\n",
       "      <td>190.971664</td>\n",
       "      <td>1166</td>\n",
       "    </tr>\n",
       "    <tr>\n",
       "      <th>2</th>\n",
       "      <td>2016-03-31</td>\n",
       "      <td>193.149994</td>\n",
       "      <td>194.699997</td>\n",
       "      <td>193.149994</td>\n",
       "      <td>194.050003</td>\n",
       "      <td>190.922470</td>\n",
       "      <td>1564</td>\n",
       "    </tr>\n",
       "    <tr>\n",
       "      <th>3</th>\n",
       "      <td>2016-04-01</td>\n",
       "      <td>193.500000</td>\n",
       "      <td>194.550003</td>\n",
       "      <td>192.500000</td>\n",
       "      <td>193.750000</td>\n",
       "      <td>190.627319</td>\n",
       "      <td>2359</td>\n",
       "    </tr>\n",
       "    <tr>\n",
       "      <th>4</th>\n",
       "      <td>2016-04-04</td>\n",
       "      <td>191.050003</td>\n",
       "      <td>194.500000</td>\n",
       "      <td>191.050003</td>\n",
       "      <td>194.100006</td>\n",
       "      <td>190.971664</td>\n",
       "      <td>1243</td>\n",
       "    </tr>\n",
       "    <tr>\n",
       "      <th>5</th>\n",
       "      <td>2016-04-05</td>\n",
       "      <td>190.850006</td>\n",
       "      <td>194.600006</td>\n",
       "      <td>190.300003</td>\n",
       "      <td>191.899994</td>\n",
       "      <td>188.807114</td>\n",
       "      <td>1186</td>\n",
       "    </tr>\n",
       "    <tr>\n",
       "      <th>6</th>\n",
       "      <td>2016-04-06</td>\n",
       "      <td>194.199997</td>\n",
       "      <td>194.199997</td>\n",
       "      <td>190.800003</td>\n",
       "      <td>191.300003</td>\n",
       "      <td>188.216812</td>\n",
       "      <td>1229</td>\n",
       "    </tr>\n",
       "  </tbody>\n",
       "</table>\n",
       "</div>"
      ],
      "text/plain": [
       "         Date        Open        High         Low       Close   Adj Close  \\\n",
       "0  2016-03-29  193.199997  193.500000  190.500000  193.449997  190.332138   \n",
       "1  2016-03-30  194.699997  194.699997  190.600006  194.100006  190.971664   \n",
       "2  2016-03-31  193.149994  194.699997  193.149994  194.050003  190.922470   \n",
       "3  2016-04-01  193.500000  194.550003  192.500000  193.750000  190.627319   \n",
       "4  2016-04-04  191.050003  194.500000  191.050003  194.100006  190.971664   \n",
       "5  2016-04-05  190.850006  194.600006  190.300003  191.899994  188.807114   \n",
       "6  2016-04-06  194.199997  194.199997  190.800003  191.300003  188.216812   \n",
       "\n",
       "   Volume  \n",
       "0    1404  \n",
       "1    1166  \n",
       "2    1564  \n",
       "3    2359  \n",
       "4    1243  \n",
       "5    1186  \n",
       "6    1229  "
      ]
     },
     "execution_count": 282,
     "metadata": {},
     "output_type": "execute_result"
    }
   ],
   "source": [
    "puma_data = pd.read_csv('PUM.DE.csv', header='infer')\n",
    "puma_data"
   ]
  },
  {
   "cell_type": "markdown",
   "metadata": {},
   "source": [
    "### Plot of Puma stock prices between 3/29/16 - 4/6/16"
   ]
  },
  {
   "cell_type": "code",
   "execution_count": 307,
   "metadata": {},
   "outputs": [
    {
     "data": {
      "text/plain": [
       "[Text(0,0.5,'Closing Price')]"
      ]
     },
     "execution_count": 307,
     "metadata": {},
     "output_type": "execute_result"
    },
    {
     "data": {
      "image/png": "[encoded data removed]",
      "text/plain": [
       "<Figure size 432x288 with 1 Axes>"
      ]
     },
     "metadata": {},
     "output_type": "display_data"
    }
   ],
   "source": [
    "closingPrice = puma_data['Close']\n",
    "closingPrice.index = puma_data['Date']\n",
    "ax = closingPrice.plot(kind='line')\n",
    "ax.set(ylabel='Closing Price')"
   ]
  },
  {
   "cell_type": "code",
   "execution_count": 298,
   "metadata": {},
   "outputs": [],
   "source": [
    "puma_list = puma_data.to_dict('records')\n",
    "ua_list = ua_data.to_dict('records')\n",
    "nke_list = nike_data.to_dict('records')\n",
    "adidas_list = adidas_data.to_dict('records')"
   ]
  },
  {
   "cell_type": "markdown",
   "metadata": {},
   "source": [
    "### Remove the 3/29/16 data point so that all stock data can match dates"
   ]
  },
  {
   "cell_type": "code",
   "execution_count": 299,
   "metadata": {},
   "outputs": [
    {
     "data": {
      "text/plain": [
       "{'Date': '2016-03-28',\n",
       " 'Open': 40.582271999999996,\n",
       " 'High': 40.582271999999996,\n",
       " 'Low': 40.582271999999996,\n",
       " 'Close': 40.582271999999996,\n",
       " 'Adj Close': 40.582271999999996,\n",
       " 'Volume': 0}"
      ]
     },
     "execution_count": 299,
     "metadata": {},
     "output_type": "execute_result"
    }
   ],
   "source": [
    "ua_list.pop(0)"
   ]
  },
  {
   "cell_type": "code",
   "execution_count": 300,
   "metadata": {},
   "outputs": [
    {
     "data": {
      "text/plain": [
       "{'Date': '2016-03-28',\n",
       " 'Open': 61.580002,\n",
       " 'High': 61.98,\n",
       " 'Low': 61.25,\n",
       " 'Close': 61.34,\n",
       " 'Adj Close': 58.988018000000004,\n",
       " 'Volume': 7899000}"
      ]
     },
     "execution_count": 300,
     "metadata": {},
     "output_type": "execute_result"
    }
   ],
   "source": [
    "nke_list.pop(0)"
   ]
  },
  {
   "cell_type": "markdown",
   "metadata": {},
   "source": [
    "##### Get all the stock prices and add them up by day. (All we care about is the aggregate price changes by day). The magnitude of price fluctuations in stocks is largely independent of it's stock price."
   ]
  },
  {
   "cell_type": "code",
   "execution_count": 304,
   "metadata": {},
   "outputs": [],
   "source": [
    "# Missing data to be filled in \n",
    "composite_list = []\n",
    "for i in range(len(ua_list)):\n",
    "    d = dict()\n",
    "    d['date'] = ua_list[i]['Date']\n",
    "    total = 0\n",
    "    total += ua_list[i]['Close']\n",
    "    total += puma_list[i]['Close']\n",
    "    total += nke_list[i]['Close']\n",
    "    total += adidas_list[i]['Close']\n",
    "    d['closing price'] = total\n",
    "    composite_list.append(d)"
   ]
  },
  {
   "cell_type": "code",
   "execution_count": 306,
   "metadata": {},
   "outputs": [
    {
     "data": {
      "text/html": [
       "<div>\n",
       "<style scoped>\n",
       "    .dataframe tbody tr th:only-of-type {\n",
       "        vertical-align: middle;\n",
       "    }\n",
       "\n",
       "    .dataframe tbody tr th {\n",
       "        vertical-align: top;\n",
       "    }\n",
       "\n",
       "    .dataframe thead th {\n",
       "        text-align: right;\n",
       "    }\n",
       "</style>\n",
       "<table border=\"1\" class=\"dataframe\">\n",
       "  <thead>\n",
       "    <tr style=\"text-align: right;\">\n",
       "      <th></th>\n",
       "      <th>closing price</th>\n",
       "      <th>date</th>\n",
       "    </tr>\n",
       "  </thead>\n",
       "  <tbody>\n",
       "    <tr>\n",
       "      <th>0</th>\n",
       "      <td>397.922273</td>\n",
       "      <td>2016-03-29</td>\n",
       "    </tr>\n",
       "    <tr>\n",
       "      <th>1</th>\n",
       "      <td>402.444320</td>\n",
       "      <td>2016-03-30</td>\n",
       "    </tr>\n",
       "    <tr>\n",
       "      <th>2</th>\n",
       "      <td>399.946293</td>\n",
       "      <td>2016-03-31</td>\n",
       "    </tr>\n",
       "    <tr>\n",
       "      <th>3</th>\n",
       "      <td>398.590721</td>\n",
       "      <td>2016-04-01</td>\n",
       "    </tr>\n",
       "    <tr>\n",
       "      <th>4</th>\n",
       "      <td>398.720729</td>\n",
       "      <td>2016-04-04</td>\n",
       "    </tr>\n",
       "    <tr>\n",
       "      <th>5</th>\n",
       "      <td>395.120716</td>\n",
       "      <td>2016-04-05</td>\n",
       "    </tr>\n",
       "    <tr>\n",
       "      <th>6</th>\n",
       "      <td>397.215728</td>\n",
       "      <td>2016-04-06</td>\n",
       "    </tr>\n",
       "  </tbody>\n",
       "</table>\n",
       "</div>"
      ],
      "text/plain": [
       "   closing price        date\n",
       "0     397.922273  2016-03-29\n",
       "1     402.444320  2016-03-30\n",
       "2     399.946293  2016-03-31\n",
       "3     398.590721  2016-04-01\n",
       "4     398.720729  2016-04-04\n",
       "5     395.120716  2016-04-05\n",
       "6     397.215728  2016-04-06"
      ]
     },
     "execution_count": 306,
     "metadata": {},
     "output_type": "execute_result"
    }
   ],
   "source": [
    "df3 = pd.DataFrame(composite_list)\n",
    "df3"
   ]
  },
  {
   "cell_type": "markdown",
   "metadata": {},
   "source": [
    "* Price change from day before. Notice that data for 4/2/16 and 4/3/16 are missing. This is because these dates were Saturday and Sunday. Stock markets are closed on weekends. This means, sadly, that we will need to discard that twitter data for those days, since no corresponding stock market fluctuation data exists for those days.\n",
    "\n",
    "* Also, Adidas and Puma being German companies and being traded on German stock platforms were not traded on 3/28/29, so we'll need to discard data for those dates on all data.\n",
    "\n",
    "* lastly, since were interested in the price delta i.e. price difference between yesterday and today, the first date, 3/29/16, will not be appearing."
   ]
  },
  {
   "attachments": {},
   "cell_type": "markdown",
   "metadata": {},
   "source": [
    "![size.png](./pictures/price_fluctuations.png)"
   ]
  },
  {
   "cell_type": "code",
   "execution_count": 330,
   "metadata": {},
   "outputs": [
    {
     "data": {
      "text/html": [
       "<div>\n",
       "<style scoped>\n",
       "    .dataframe tbody tr th:only-of-type {\n",
       "        vertical-align: middle;\n",
       "    }\n",
       "\n",
       "    .dataframe tbody tr th {\n",
       "        vertical-align: top;\n",
       "    }\n",
       "\n",
       "    .dataframe thead th {\n",
       "        text-align: right;\n",
       "    }\n",
       "</style>\n",
       "<table border=\"1\" class=\"dataframe\">\n",
       "  <thead>\n",
       "    <tr style=\"text-align: right;\">\n",
       "      <th></th>\n",
       "      <th>t-1</th>\n",
       "    </tr>\n",
       "    <tr>\n",
       "      <th>date</th>\n",
       "      <th></th>\n",
       "    </tr>\n",
       "  </thead>\n",
       "  <tbody>\n",
       "    <tr>\n",
       "      <th>2016-03-31</th>\n",
       "      <td>-2.498027</td>\n",
       "    </tr>\n",
       "    <tr>\n",
       "      <th>2016-04-01</th>\n",
       "      <td>-1.355572</td>\n",
       "    </tr>\n",
       "    <tr>\n",
       "      <th>2016-04-04</th>\n",
       "      <td>0.130008</td>\n",
       "    </tr>\n",
       "    <tr>\n",
       "      <th>2016-04-05</th>\n",
       "      <td>-3.600013</td>\n",
       "    </tr>\n",
       "    <tr>\n",
       "      <th>2016-04-06</th>\n",
       "      <td>2.095012</td>\n",
       "    </tr>\n",
       "  </tbody>\n",
       "</table>\n",
       "</div>"
      ],
      "text/plain": [
       "                 t-1\n",
       "date                \n",
       "2016-03-31 -2.498027\n",
       "2016-04-01 -1.355572\n",
       "2016-04-04  0.130008\n",
       "2016-04-05 -3.600013\n",
       "2016-04-06  2.095012"
      ]
     },
     "execution_count": 330,
     "metadata": {},
     "output_type": "execute_result"
    }
   ],
   "source": [
    "N = Y.shape[0]\n",
    "X = pd.DataFrame( Y[1:N].values, columns=['t-1'])\n",
    "X.index = Y[1:].index\n",
    "X.head()"
   ]
  },
  {
   "cell_type": "code",
   "execution_count": 544,
   "metadata": {},
   "outputs": [],
   "source": [
    "price_changes = [('2016-03-30', 4.522047),\n",
    "('2016-03-31',-2.498027),\n",
    "('2016-04-01',-1.355572),\n",
    "('2016-04-04',0.130008),\n",
    "('2016-04-05',-3.600013),\n",
    "('2016-04-06',2.095012)]"
   ]
  },
  {
   "cell_type": "code",
   "execution_count": 537,
   "metadata": {},
   "outputs": [
    {
     "name": "stdout",
     "output_type": "stream",
     "text": [
      "('2016-03-30', 8.903674774790845)\n",
      "('2016-03-31', 8.022228623004015)\n",
      "('2016-04-01', 8.054773872194504)\n",
      "('2016-04-02', 7.29405767115563)\n",
      "('2016-04-03', 7.6848204194519605)\n",
      "('2016-04-04', 8.538105684324735)\n",
      "('2016-04-05', 7.886625640681083)\n",
      "('2016-04-06', 8.035456456933693)\n"
     ]
    }
   ],
   "source": [
    "# data from our previous query\n",
    "query = \"\"\"\n",
    "select created_at, avg(hype_created)\n",
    "from tweets\n",
    "group by created_at;\n",
    "\"\"\"\n",
    "\n",
    "for i in results:\n",
    "    print(i)"
   ]
  },
  {
   "cell_type": "markdown",
   "metadata": {},
   "source": [
    "#### also remove weekends"
   ]
  },
  {
   "cell_type": "code",
   "execution_count": 540,
   "metadata": {},
   "outputs": [],
   "source": [
    "hype_averages_no_weekends = [('2016-03-30', 8.903674774790845),\n",
    "('2016-03-31', 8.022228623004015),\n",
    "('2016-04-01', 8.054773872194504),\n",
    "('2016-04-04', 8.538105684324735),\n",
    "('2016-04-05', 7.886625640681083),\n",
    "('2016-04-06', 8.035456456933693)]"
   ]
  },
  {
   "cell_type": "code",
   "execution_count": 541,
   "metadata": {},
   "outputs": [],
   "source": [
    "hype_averages_no_dates = [row[1] for row in hype_averages_no_weekends]"
   ]
  },
  {
   "cell_type": "code",
   "execution_count": 542,
   "metadata": {},
   "outputs": [
    {
     "data": {
      "text/plain": [
       "[8.903674774790845,\n",
       " 8.022228623004015,\n",
       " 8.054773872194504,\n",
       " 8.538105684324735,\n",
       " 7.886625640681083,\n",
       " 8.035456456933693]"
      ]
     },
     "execution_count": 542,
     "metadata": {},
     "output_type": "execute_result"
    }
   ],
   "source": [
    "hype_averages_no_dates"
   ]
  },
  {
   "cell_type": "code",
   "execution_count": 548,
   "metadata": {},
   "outputs": [],
   "source": [
    "price_hype = []\n",
    "for i in range(len(hype_averages_no_dates)):\n",
    "    lst = []\n",
    "    lst.append(price_changes[i][0])\n",
    "    lst.append(price_changes[i][1])\n",
    "    lst.append(hype_averages_no_dates[i])\n",
    "    price_hype.append(lst)"
   ]
  },
  {
   "cell_type": "code",
   "execution_count": 549,
   "metadata": {},
   "outputs": [],
   "source": [
    "price_hype_df = pd.DataFrame(price_hype)\n",
    "price_hype_df.columns = ['date','price change','hype created']"
   ]
  },
  {
   "cell_type": "code",
   "execution_count": 620,
   "metadata": {},
   "outputs": [
    {
     "data": {
      "text/html": [
       "<div>\n",
       "<style scoped>\n",
       "    .dataframe tbody tr th:only-of-type {\n",
       "        vertical-align: middle;\n",
       "    }\n",
       "\n",
       "    .dataframe tbody tr th {\n",
       "        vertical-align: top;\n",
       "    }\n",
       "\n",
       "    .dataframe thead th {\n",
       "        text-align: right;\n",
       "    }\n",
       "</style>\n",
       "<table border=\"1\" class=\"dataframe\">\n",
       "  <thead>\n",
       "    <tr style=\"text-align: right;\">\n",
       "      <th></th>\n",
       "      <th>date</th>\n",
       "      <th>price change</th>\n",
       "      <th>hype created</th>\n",
       "    </tr>\n",
       "  </thead>\n",
       "  <tbody>\n",
       "    <tr>\n",
       "      <th>0</th>\n",
       "      <td>2016-03-30</td>\n",
       "      <td>4.522047</td>\n",
       "      <td>8.903675</td>\n",
       "    </tr>\n",
       "    <tr>\n",
       "      <th>1</th>\n",
       "      <td>2016-03-31</td>\n",
       "      <td>-2.498027</td>\n",
       "      <td>8.022229</td>\n",
       "    </tr>\n",
       "    <tr>\n",
       "      <th>2</th>\n",
       "      <td>2016-04-01</td>\n",
       "      <td>-1.355572</td>\n",
       "      <td>8.054774</td>\n",
       "    </tr>\n",
       "    <tr>\n",
       "      <th>3</th>\n",
       "      <td>2016-04-04</td>\n",
       "      <td>0.130008</td>\n",
       "      <td>8.538106</td>\n",
       "    </tr>\n",
       "    <tr>\n",
       "      <th>4</th>\n",
       "      <td>2016-04-05</td>\n",
       "      <td>-3.600013</td>\n",
       "      <td>7.886626</td>\n",
       "    </tr>\n",
       "    <tr>\n",
       "      <th>5</th>\n",
       "      <td>2016-04-06</td>\n",
       "      <td>2.095012</td>\n",
       "      <td>8.035456</td>\n",
       "    </tr>\n",
       "  </tbody>\n",
       "</table>\n",
       "</div>"
      ],
      "text/plain": [
       "         date  price change  hype created\n",
       "0  2016-03-30      4.522047      8.903675\n",
       "1  2016-03-31     -2.498027      8.022229\n",
       "2  2016-04-01     -1.355572      8.054774\n",
       "3  2016-04-04      0.130008      8.538106\n",
       "4  2016-04-05     -3.600013      7.886626\n",
       "5  2016-04-06      2.095012      8.035456"
      ]
     },
     "execution_count": 620,
     "metadata": {},
     "output_type": "execute_result"
    }
   ],
   "source": [
    "price_hype_df"
   ]
  },
  {
   "cell_type": "code",
   "execution_count": 552,
   "metadata": {},
   "outputs": [],
   "source": [
    "price_hype_df.to_csv('price_changes.csv')"
   ]
  },
  {
   "cell_type": "markdown",
   "metadata": {},
   "source": [
    "### Correlation between 'hype' and price change based on 6 data points (untrustworthy)"
   ]
  },
  {
   "cell_type": "code",
   "execution_count": 664,
   "metadata": {},
   "outputs": [
    {
     "data": {
      "text/plain": [
       "0.7838344355183501"
      ]
     },
     "execution_count": 664,
     "metadata": {},
     "output_type": "execute_result"
    }
   ],
   "source": [
    "price_hype_df['price change'].corr(price_hype_df['hype created'])"
   ]
  },
  {
   "cell_type": "code",
   "execution_count": 623,
   "metadata": {},
   "outputs": [],
   "source": [
    "X = price_hype_df['hype created']\n",
    "y = price_hype_df['price change']"
   ]
  },
  {
   "cell_type": "markdown",
   "metadata": {},
   "source": [
    "<span id=\"modeling\">a</span>\n",
    "# Modeling\n",
    "## Split data into testing and training\n",
    "\n",
    "\n",
    "* it really is pathetic to have to train a model with only four data points, but this useful insofar as it serves as laying the groundwork for doing the same experiment with a year's worth of data and much more time and Hard Drive Space."
   ]
  },
  {
   "cell_type": "code",
   "execution_count": 624,
   "metadata": {},
   "outputs": [],
   "source": [
    "import numpy\n",
    "\n",
    "X = price_hype_df['hype created']\n",
    "y = price_hype_df['price change']\n",
    "\n",
    "X = numpy.array([[i] for i in X])\n",
    "y = numpy.array([[i] for i in y])"
   ]
  },
  {
   "cell_type": "code",
   "execution_count": 661,
   "metadata": {},
   "outputs": [
    {
     "name": "stdout",
     "output_type": "stream",
     "text": [
      "Slope =  6.015543982421148\n",
      "Intercept =  -49.6867072081378\n"
     ]
    },
    {
     "data": {
      "text/plain": [
       "[<matplotlib.lines.Line2D at 0x1a1a77bb70>]"
      ]
     },
     "execution_count": 661,
     "metadata": {},
     "output_type": "execute_result"
    },
    {
     "data": {
      "image/png": "[encoded data removed]",
      "text/plain": [
       "<Figure size 432x288 with 1 Axes>"
      ]
     },
     "metadata": {},
     "output_type": "display_data"
    }
   ],
   "source": [
    "import numpy\n",
    "\n",
    "X = price_hype_df['hype created']\n",
    "y = price_hype_df['price change']\n",
    "\n",
    "X = numpy.array([[i] for i in X])\n",
    "y = numpy.array([[i] for i in y])\n",
    "\n",
    "X_train = X\n",
    "y_train = y\n",
    "\n",
    "\n",
    "from sklearn import linear_model\n",
    "from sklearn.metrics import mean_squared_error, r2_score\n",
    "\n",
    "# Create linear regression object\n",
    "regr = linear_model.LinearRegression()\n",
    "\n",
    "# Fit regression model to the training set\n",
    "regr.fit(X_train, y_train)\n",
    "\n",
    "# Display model parameters\n",
    "print('Slope = ', regr.coef_[0][0])\n",
    "print('Intercept = ', regr.intercept_[0])### Step 4: Postprocessing\n",
    "\n",
    "# Plot outputs\n",
    "plt.scatter(X_train, y_train,  color='black')\n",
    "#plt.plot(X_train, y_train, color='red', linewidth=3)\n",
    "titlestr = 'Predicted Function: y = %.2fX + %.2f' % (regr.coef_[0], regr.intercept_)\n",
    "plt.title(titlestr)\n",
    "plt.xlabel('Hype')\n",
    "plt.ylabel('Price shift in Dollars')\n",
    "\n",
    "import numpy as np\n",
    "x = np.linspace(7.75,9,100)\n",
    "y = 6.02*x - 49.69\n",
    "plt.plot(x, y, '-r')\n"
   ]
  },
  {
   "cell_type": "markdown",
   "metadata": {},
   "source": [
    "### Coefficient of determination: .6142"
   ]
  },
  {
   "cell_type": "code",
   "execution_count": null,
   "metadata": {},
   "outputs": [],
   "source": []
  },
  {
   "cell_type": "code",
   "execution_count": 663,
   "metadata": {},
   "outputs": [
    {
     "name": "stdout",
     "output_type": "stream",
     "text": [
      "Root mean squared error = 1.7161\n",
      "R-squared = 0.6142\n"
     ]
    }
   ],
   "source": [
    "# Model evaluation`a\n",
    "print(\"Root mean squared error = %.4f\" % np.sqrt(mean_squared_error(y_train, predicted_y)))\n",
    "print('R-squared = %.4f' % r2_score(y_train, predicted_y))"
   ]
  },
  {
   "cell_type": "code",
   "execution_count": 642,
   "metadata": {},
   "outputs": [],
   "source": [
    "def f(x):\n",
    "    return 6.02*x - 49.69"
   ]
  },
  {
   "cell_type": "code",
   "execution_count": 662,
   "metadata": {},
   "outputs": [
    {
     "data": {
      "text/plain": [
       "0.6142497496063837"
      ]
     },
     "execution_count": 662,
     "metadata": {},
     "output_type": "execute_result"
    }
   ],
   "source": [
    "from sklearn.metrics import r2_score\n",
    "\n",
    "predicted_y = [f(x) for x in X]\n",
    "\n",
    "coefficient_of_dermination = r2_score(y_train, predicted_y)\n",
    "coefficient_of_dermination"
   ]
  },
  {
   "cell_type": "code",
   "execution_count": 648,
   "metadata": {},
   "outputs": [
    {
     "data": {
      "text/plain": [
       "0.6142497496063837"
      ]
     },
     "execution_count": 648,
     "metadata": {},
     "output_type": "execute_result"
    }
   ],
   "source": [
    "coefficient_of_dermination"
   ]
  },
  {
   "cell_type": "code",
   "execution_count": 625,
   "metadata": {},
   "outputs": [],
   "source": [
    "numTrain = 4\n",
    "# number of training instances\n",
    "numInstances = 6\n",
    "numTest = numInstances - numTrain\n",
    "\n",
    "X_train = X[:-numTest]\n",
    "X_test = X[-numTest:]\n",
    "y_train = y[:-numTest]\n",
    "y_test = y[-numTest:]"
   ]
  },
  {
   "cell_type": "code",
   "execution_count": 626,
   "metadata": {},
   "outputs": [
    {
     "data": {
      "text/plain": [
       "LinearRegression(copy_X=True, fit_intercept=True, n_jobs=1, normalize=False)"
      ]
     },
     "execution_count": 626,
     "metadata": {},
     "output_type": "execute_result"
    }
   ],
   "source": [
    "from sklearn import linear_model\n",
    "from sklearn.metrics import mean_squared_error, r2_score\n",
    "\n",
    "# Create linear regression object\n",
    "regr = linear_model.LinearRegression()\n",
    "\n",
    "# Fit regression model to the training set\n",
    "regr.fit(X_train, y_train)"
   ]
  },
  {
   "cell_type": "code",
   "execution_count": 630,
   "metadata": {},
   "outputs": [
    {
     "data": {
      "text/plain": [
       "Text(0,0.5,'Predicted values for y')"
      ]
     },
     "execution_count": 630,
     "metadata": {},
     "output_type": "execute_result"
    },
    {
     "data": {
      "image/png": "[encoded data removed]",
      "text/plain": [
       "<Figure size 432x288 with 1 Axes>"
      ]
     },
     "metadata": {},
     "output_type": "display_data"
    }
   ],
   "source": [
    "# Apply model to the test set\n",
    "y_pred_test = regr.predict(X_test)\n",
    "\n",
    "# Comparing true versus predicted values\n",
    "plt.scatter(y_test, y_pred_test, color='black')\n",
    "plt.title('Comparing true and predicted values for test set')\n",
    "plt.xlabel('True values for y')\n",
    "plt.ylabel('Predicted values for y')"
   ]
  },
  {
   "cell_type": "code",
   "execution_count": 631,
   "metadata": {},
   "outputs": [
    {
     "name": "stdout",
     "output_type": "stream",
     "text": [
      "Root mean squared error = 3.0510\n",
      "R-squared = -0.1481\n"
     ]
    }
   ],
   "source": [
    "# Model evaluation\n",
    "print(\"Root mean squared error = %.4f\" % np.sqrt(mean_squared_error(y_test, y_pred_test)))\n",
    "print('R-squared = %.4f' % r2_score(y_test, y_pred_test))"
   ]
  },
  {
   "cell_type": "markdown",
   "metadata": {},
   "source": [
    "Due to the dearth of data, these results are largely meaningless -- they neither prove or disprove the hypothesis. However, they are useful in that the next step is just gather more data for the next time."
   ]
  },
  {
   "cell_type": "code",
   "execution_count": 633,
   "metadata": {},
   "outputs": [
    {
     "name": "stdout",
     "output_type": "stream",
     "text": [
      "Slope =  6.985810602885158\n",
      "Intercept =  -58.33935333951343\n"
     ]
    },
    {
     "data": {
      "text/plain": [
       "Text(0,0.5,'y')"
      ]
     },
     "execution_count": 633,
     "metadata": {},
     "output_type": "execute_result"
    },
    {
     "data": {
      "image/png": "[encoded data removed]",
      "text/plain": [
       "<Figure size 432x288 with 1 Axes>"
      ]
     },
     "metadata": {},
     "output_type": "display_data"
    }
   ],
   "source": [
    "# Display model parameters\n",
    "print('Slope = ', regr.coef_[0][0])\n",
    "print('Intercept = ', regr.intercept_[0])### Step 4: Postprocessing\n",
    "\n",
    "# Plot outputs\n",
    "plt.scatter(X_test, y_test,  color='black')\n",
    "plt.plot(X_test, y_pred_test, color='red', linewidth=3)\n",
    "titlestr = 'Predicted Function: y = %.2fX + %.2f' % (regr.coef_[0], regr.intercept_)\n",
    "plt.title(titlestr)\n",
    "plt.xlabel('X')\n",
    "plt.ylabel('y')"
   ]
  },
  {
   "cell_type": "markdown",
   "metadata": {},
   "source": [
    "---\n",
    "\n",
    "# Results using just historical data to predict stock market price fluctuations for Nike from 1980 to 2018"
   ]
  },
  {
   "cell_type": "code",
   "execution_count": 651,
   "metadata": {},
   "outputs": [
    {
     "data": {
      "text/html": [
       "<div>\n",
       "<style scoped>\n",
       "    .dataframe tbody tr th:only-of-type {\n",
       "        vertical-align: middle;\n",
       "    }\n",
       "\n",
       "    .dataframe tbody tr th {\n",
       "        vertical-align: top;\n",
       "    }\n",
       "\n",
       "    .dataframe thead th {\n",
       "        text-align: right;\n",
       "    }\n",
       "</style>\n",
       "<table border=\"1\" class=\"dataframe\">\n",
       "  <thead>\n",
       "    <tr style=\"text-align: right;\">\n",
       "      <th></th>\n",
       "      <th>Date</th>\n",
       "      <th>Open</th>\n",
       "      <th>High</th>\n",
       "      <th>Low</th>\n",
       "      <th>Close</th>\n",
       "      <th>Adj Close</th>\n",
       "      <th>Volume</th>\n",
       "    </tr>\n",
       "  </thead>\n",
       "  <tbody>\n",
       "    <tr>\n",
       "      <th>0</th>\n",
       "      <td>1980-12-02</td>\n",
       "      <td>0.179688</td>\n",
       "      <td>0.183594</td>\n",
       "      <td>0.179688</td>\n",
       "      <td>0.179688</td>\n",
       "      <td>0.000004</td>\n",
       "      <td>100710400</td>\n",
       "    </tr>\n",
       "    <tr>\n",
       "      <th>1</th>\n",
       "      <td>1980-12-03</td>\n",
       "      <td>0.177734</td>\n",
       "      <td>0.177734</td>\n",
       "      <td>0.175781</td>\n",
       "      <td>0.175781</td>\n",
       "      <td>0.000004</td>\n",
       "      <td>25177600</td>\n",
       "    </tr>\n",
       "    <tr>\n",
       "      <th>2</th>\n",
       "      <td>1980-12-04</td>\n",
       "      <td>0.181641</td>\n",
       "      <td>0.183594</td>\n",
       "      <td>0.181641</td>\n",
       "      <td>0.181641</td>\n",
       "      <td>0.000004</td>\n",
       "      <td>22694400</td>\n",
       "    </tr>\n",
       "    <tr>\n",
       "      <th>3</th>\n",
       "      <td>1980-12-05</td>\n",
       "      <td>0.175781</td>\n",
       "      <td>0.175781</td>\n",
       "      <td>0.171875</td>\n",
       "      <td>0.171875</td>\n",
       "      <td>0.000004</td>\n",
       "      <td>7590400</td>\n",
       "    </tr>\n",
       "    <tr>\n",
       "      <th>4</th>\n",
       "      <td>1980-12-08</td>\n",
       "      <td>0.164063</td>\n",
       "      <td>0.164063</td>\n",
       "      <td>0.162109</td>\n",
       "      <td>0.162109</td>\n",
       "      <td>0.000003</td>\n",
       "      <td>5414400</td>\n",
       "    </tr>\n",
       "  </tbody>\n",
       "</table>\n",
       "</div>"
      ],
      "text/plain": [
       "         Date      Open      High       Low     Close  Adj Close     Volume\n",
       "0  1980-12-02  0.179688  0.183594  0.179688  0.179688   0.000004  100710400\n",
       "1  1980-12-03  0.177734  0.177734  0.175781  0.175781   0.000004   25177600\n",
       "2  1980-12-04  0.181641  0.183594  0.181641  0.181641   0.000004   22694400\n",
       "3  1980-12-05  0.175781  0.175781  0.171875  0.171875   0.000004    7590400\n",
       "4  1980-12-08  0.164063  0.164063  0.162109  0.162109   0.000003    5414400"
      ]
     },
     "execution_count": 651,
     "metadata": {},
     "output_type": "execute_result"
    }
   ],
   "source": [
    "import pandas as pd\n",
    "%matplotlib inline\n",
    "\n",
    "data = pd.read_csv('NKE-2.csv', header='infer' )\n",
    "data.head()"
   ]
  },
  {
   "cell_type": "code",
   "execution_count": 652,
   "metadata": {},
   "outputs": [
    {
     "data": {
      "text/plain": [
       "[Text(0,0.5,'Closing Price')]"
      ]
     },
     "execution_count": 652,
     "metadata": {},
     "output_type": "execute_result"
    },
    {
     "data": {
      "image/png": "[encoded data removed]",
      "text/plain": [
       "<Figure size 432x288 with 1 Axes>"
      ]
     },
     "metadata": {},
     "output_type": "display_data"
    }
   ],
   "source": [
    "closingPrice = data['Close']\n",
    "closingPrice.index = data['Date']\n",
    "ax = closingPrice.plot(kind='line')\n",
    "ax.set(ylabel='Closing Price')"
   ]
  },
  {
   "cell_type": "code",
   "execution_count": 653,
   "metadata": {},
   "outputs": [
    {
     "data": {
      "text/plain": [
       "Date\n",
       "1980-12-03   -0.003907\n",
       "1980-12-04    0.005860\n",
       "1980-12-05   -0.009766\n",
       "1980-12-08   -0.009766\n",
       "1980-12-09   -0.003906\n",
       "dtype: float64"
      ]
     },
     "execution_count": 653,
     "metadata": {},
     "output_type": "execute_result"
    },
    {
     "data": {
      "image/png": "[encoded data removed]",
      "text/plain": [
       "<Figure size 432x288 with 1 Axes>"
      ]
     },
     "metadata": {},
     "output_type": "display_data"
    }
   ],
   "source": [
    "N = closingPrice.shape[0]\n",
    "Y = pd.Series(closingPrice[1:N].values - closingPrice[:N-1].values, index=closingPrice.index[1:])\n",
    "Y.plot(kind='line')\n",
    "Y.head()"
   ]
  },
  {
   "cell_type": "code",
   "execution_count": 654,
   "metadata": {},
   "outputs": [
    {
     "data": {
      "text/html": [
       "<div>\n",
       "<style scoped>\n",
       "    .dataframe tbody tr th:only-of-type {\n",
       "        vertical-align: middle;\n",
       "    }\n",
       "\n",
       "    .dataframe tbody tr th {\n",
       "        vertical-align: top;\n",
       "    }\n",
       "\n",
       "    .dataframe thead th {\n",
       "        text-align: right;\n",
       "    }\n",
       "</style>\n",
       "<table border=\"1\" class=\"dataframe\">\n",
       "  <thead>\n",
       "    <tr style=\"text-align: right;\">\n",
       "      <th></th>\n",
       "      <th>t-4</th>\n",
       "      <th>t-3</th>\n",
       "      <th>t-2</th>\n",
       "      <th>t-1</th>\n",
       "    </tr>\n",
       "    <tr>\n",
       "      <th>Date</th>\n",
       "      <th></th>\n",
       "      <th></th>\n",
       "      <th></th>\n",
       "      <th></th>\n",
       "    </tr>\n",
       "  </thead>\n",
       "  <tbody>\n",
       "    <tr>\n",
       "      <th>1980-12-09</th>\n",
       "      <td>-0.003907</td>\n",
       "      <td>0.005860</td>\n",
       "      <td>-0.009766</td>\n",
       "      <td>-0.009766</td>\n",
       "    </tr>\n",
       "    <tr>\n",
       "      <th>1980-12-10</th>\n",
       "      <td>0.005860</td>\n",
       "      <td>-0.009766</td>\n",
       "      <td>-0.009766</td>\n",
       "      <td>-0.003906</td>\n",
       "    </tr>\n",
       "    <tr>\n",
       "      <th>1980-12-11</th>\n",
       "      <td>-0.009766</td>\n",
       "      <td>-0.009766</td>\n",
       "      <td>-0.003906</td>\n",
       "      <td>-0.009765</td>\n",
       "    </tr>\n",
       "    <tr>\n",
       "      <th>1980-12-12</th>\n",
       "      <td>-0.009766</td>\n",
       "      <td>-0.003906</td>\n",
       "      <td>-0.009765</td>\n",
       "      <td>-0.007813</td>\n",
       "    </tr>\n",
       "    <tr>\n",
       "      <th>1980-12-15</th>\n",
       "      <td>-0.003906</td>\n",
       "      <td>-0.009765</td>\n",
       "      <td>-0.007813</td>\n",
       "      <td>0.005859</td>\n",
       "    </tr>\n",
       "  </tbody>\n",
       "</table>\n",
       "</div>"
      ],
      "text/plain": [
       "                 t-4       t-3       t-2       t-1\n",
       "Date                                              \n",
       "1980-12-09 -0.003907  0.005860 -0.009766 -0.009766\n",
       "1980-12-10  0.005860 -0.009766 -0.009766 -0.003906\n",
       "1980-12-11 -0.009766 -0.009766 -0.003906 -0.009765\n",
       "1980-12-12 -0.009766 -0.003906 -0.009765 -0.007813\n",
       "1980-12-15 -0.003906 -0.009765 -0.007813  0.005859"
      ]
     },
     "execution_count": 654,
     "metadata": {},
     "output_type": "execute_result"
    }
   ],
   "source": [
    "N = Y.shape[0]\n",
    "X = pd.DataFrame( Y[:N-3].values,columns=['t-4'])\n",
    "X['t-3'] = Y[1:N-2].values\n",
    "X['t-2'] = Y[2:N-1].values\n",
    "X['t-1'] = Y[3:N].values\n",
    "X = X[:-1]\n",
    "X.index = Y[4:].index\n",
    "X.head()"
   ]
  },
  {
   "cell_type": "code",
   "execution_count": 655,
   "metadata": {},
   "outputs": [
    {
     "data": {
      "text/plain": [
       "Date\n",
       "1980-12-09   -0.003906\n",
       "1980-12-10   -0.009765\n",
       "1980-12-11   -0.007813\n",
       "1980-12-12    0.005859\n",
       "1980-12-15    0.005860\n",
       "dtype: float64"
      ]
     },
     "execution_count": 655,
     "metadata": {},
     "output_type": "execute_result"
    }
   ],
   "source": [
    "y = Y[4:]\n",
    "y.head()"
   ]
  },
  {
   "cell_type": "markdown",
   "metadata": {},
   "source": [
    "## Divide model into 90% training, 10% testing"
   ]
  },
  {
   "cell_type": "code",
   "execution_count": 656,
   "metadata": {},
   "outputs": [],
   "source": [
    "from sklearn.model_selection import train_test_split\n",
    "\n",
    "X_train, X_test, y_train, y_test = train_test_split(X, y, test_size=0.1, random_state=1)"
   ]
  },
  {
   "cell_type": "code",
   "execution_count": 657,
   "metadata": {},
   "outputs": [
    {
     "name": "stdout",
     "output_type": "stream",
     "text": [
      "Root mean squared error = 0.3806\n",
      "R-square = 0.0044\n",
      "Slope Coefficients: [-0.07284592  0.01571662 -0.02528144 -0.07886995]\n",
      "Intercept: 0.010069356420654535\n"
     ]
    }
   ],
   "source": [
    "from sklearn import linear_model\n",
    "from sklearn.metrics import mean_squared_error, r2_score\n",
    "import matplotlib.pyplot as plt\n",
    "import numpy as np\n",
    "\n",
    "# Create linear regression object\n",
    "regr = linear_model.LinearRegression()\n",
    "\n",
    "# Fit regression model to the training set\n",
    "regr.fit(X_train, y_train)\n",
    "\n",
    "# Apply model to the test set\n",
    "y_pred_test = regr.predict(X_test)\n",
    "\n",
    "print(\"Root mean squared error = %.4f\" % np.sqrt(mean_squared_error(y_test, y_pred_test)))\n",
    "print(\"R-square = %.4f\" % r2_score(y_test, y_pred_test))\n",
    "print('Slope Coefficients:', regr.coef_)\n",
    "print('Intercept:', regr.intercept_)"
   ]
  },
  {
   "cell_type": "code",
   "execution_count": 659,
   "metadata": {},
   "outputs": [
    {
     "data": {
      "text/plain": [
       "Text(0,0.5,'Predicted values for y')"
      ]
     },
     "execution_count": 659,
     "metadata": {},
     "output_type": "execute_result"
    },
    {
     "data": {
      "image/png": "[encoded data removed]",
      "text/plain": [
       "<Figure size 432x288 with 1 Axes>"
      ]
     },
     "metadata": {},
     "output_type": "display_data"
    }
   ],
   "source": [
    "# Apply model to the test set\n",
    "y_pred_test = regr.predict(X_test)\n",
    "\n",
    "# Comparing true versus predicted values\n",
    "plt.scatter(y_test, y_pred_test, color='black')\n",
    "plt.title('Predicting price shifts using previous four days shift')\n",
    "plt.xlabel('True values for y')\n",
    "plt.ylabel('Predicted values for y')"
   ]
  },
  {
   "cell_type": "markdown",
   "metadata": {},
   "source": [
    "##### This graph confirms that using the last four trading days to predict a price swing is as useful as randomly guessing.\n",
    "#### Also, ultimately, using previous price fluctuations to predict future ones as proven by the R-Square value of 0.0044. This suggests that future price swings are independent of past ones. "
   ]
  },
  {
   "cell_type": "markdown",
   "metadata": {},
   "source": []
  },
  {
   "cell_type": "markdown",
   "metadata": {},
   "source": [
    "### Although we have limited data, twitter sentiment analysis data presents a more viable alternative, although more data and resources are required to prove/disprove this hypothesis"
   ]
  }
 ],
 "metadata": {
  "kernelspec": {
   "display_name": "Python 3",
   "language": "python",
   "name": "python3"
  },
  "language_info": {
   "codemirror_mode": {
    "name": "ipython",
    "version": 3
   },
   "file_extension": ".py",
   "mimetype": "text/x-python",
   "name": "python",
   "nbconvert_exporter": "python",
   "pygments_lexer": "ipython3",
   "version": "3.6.5"
  }
 },
 "nbformat": 4,
 "nbformat_minor": 2
}
